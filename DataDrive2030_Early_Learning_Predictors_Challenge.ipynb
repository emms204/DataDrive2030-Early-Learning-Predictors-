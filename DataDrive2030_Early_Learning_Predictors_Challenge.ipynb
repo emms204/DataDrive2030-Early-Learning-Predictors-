{
  "nbformat": 4,
  "nbformat_minor": 0,
  "metadata": {
    "colab": {
      "provenance": [],
      "collapsed_sections": [
        "XHwCHPsQEL0_",
        "MPtyzsTR0C_5",
        "bllKBZbD76xF",
        "vDPv-3ZP9d-I"
      ],
      "mount_file_id": "1UxM2xlGVfFCoN6TprmecxGU5_Tg43WxF",
      "authorship_tag": "ABX9TyOeswkVI5IUDQVans8/ivM2",
      "include_colab_link": true
    },
    "kernelspec": {
      "name": "python3",
      "display_name": "Python 3"
    },
    "language_info": {
      "name": "python"
    }
  },
  "cells": [
    {
      "cell_type": "markdown",
      "metadata": {
        "id": "view-in-github",
        "colab_type": "text"
      },
      "source": [
        "<a href=\"https://colab.research.google.com/github/emms204/DataDrive2030-Early-Learning-Predictors-/blob/main/DataDrive2030_Early_Learning_Predictors_Challenge.ipynb\" target=\"_parent\"><img src=\"https://colab.research.google.com/assets/colab-badge.svg\" alt=\"Open In Colab\"/></a>"
      ]
    },
    {
      "cell_type": "code",
      "execution_count": 1,
      "metadata": {
        "id": "EELfS2V88mFN"
      },
      "outputs": [],
      "source": [
        "import os\n",
        "os.chdir('/content/drive/MyDrive/DataDrive2030 Early Learning Predictors Challenge')"
      ]
    },
    {
      "cell_type": "code",
      "source": [
        "import pandas as pd\n",
        "import numpy as np\n",
        "import matplotlib.pyplot as plt\n",
        "import seaborn as sns\n",
        "import warnings\n",
        "warnings.filterwarnings('ignore')"
      ],
      "metadata": {
        "id": "4A3M5ukp-nzc"
      },
      "execution_count": 2,
      "outputs": []
    },
    {
      "cell_type": "code",
      "source": [
        "from sklearn.model_selection import train_test_split, KFold, StratifiedKFold\n",
        "from sklearn.metrics import mean_absolute_error, mean_squared_error\n",
        "from sklearn.preprocessing import LabelEncoder, OneHotEncoder"
      ],
      "metadata": {
        "id": "8bdXcWqfJ7l7"
      },
      "execution_count": 3,
      "outputs": []
    },
    {
      "cell_type": "code",
      "source": [
        "!pip install catboost -q"
      ],
      "metadata": {
        "colab": {
          "base_uri": "https://localhost:8080/"
        },
        "id": "dWKHeVZ4JpY6",
        "outputId": "3c6b4720-675f-44ee-d8ae-e04ebedfdc91"
      },
      "execution_count": 4,
      "outputs": [
        {
          "output_type": "stream",
          "name": "stdout",
          "text": [
            "\u001b[2K     \u001b[90m━━━━━━━━━━━━━━━━━━━━━━━━━━━━━━━━━━━━━━━━\u001b[0m \u001b[32m76.6/76.6 MB\u001b[0m \u001b[31m10.6 MB/s\u001b[0m eta \u001b[36m0:00:00\u001b[0m\n",
            "\u001b[?25h"
          ]
        }
      ]
    },
    {
      "cell_type": "code",
      "source": [
        "!pip install shap -q"
      ],
      "metadata": {
        "colab": {
          "base_uri": "https://localhost:8080/"
        },
        "id": "33eOKF3AZZ6K",
        "outputId": "870b6341-2b75-44d8-8d8f-6edb076dfafe"
      },
      "execution_count": 5,
      "outputs": [
        {
          "output_type": "stream",
          "name": "stdout",
          "text": [
            "\u001b[?25l     \u001b[90m━━━━━━━━━━━━━━━━━━━━━━━━━━━━━━━━━━━━━━━━\u001b[0m \u001b[32m0.0/572.4 KB\u001b[0m \u001b[31m?\u001b[0m eta \u001b[36m-:--:--\u001b[0m\r\u001b[2K     \u001b[91m━━━━━━━━━━━━━━━━━━━\u001b[0m\u001b[91m╸\u001b[0m\u001b[90m━━━━━━━━━━━━━━━━━━━\u001b[0m \u001b[32m286.7/572.4 KB\u001b[0m \u001b[31m8.5 MB/s\u001b[0m eta \u001b[36m0:00:01\u001b[0m\r\u001b[2K     \u001b[90m━━━━━━━━━━━━━━━━━━━━━━━━━━━━━━━━━━━━━━━\u001b[0m \u001b[32m572.4/572.4 KB\u001b[0m \u001b[31m9.5 MB/s\u001b[0m eta \u001b[36m0:00:00\u001b[0m\n",
            "\u001b[?25h"
          ]
        }
      ]
    },
    {
      "cell_type": "code",
      "source": [
        "from catboost import CatBoostRegressor\n",
        "from lightgbm import LGBMRegressor\n",
        "from xgboost import XGBRegressor\n",
        "import shap"
      ],
      "metadata": {
        "id": "q0awp6-LJuEf"
      },
      "execution_count": 6,
      "outputs": []
    },
    {
      "cell_type": "code",
      "source": [
        "Train = pd.read_csv('Train_DD.csv')\n",
        "Test = pd.read_csv('Test_DD.csv')\n",
        "Sub = pd.read_csv('SampleSubmission.csv')\n",
        "VarD = pd.read_csv('VariableDescription.csv')"
      ],
      "metadata": {
        "id": "FkS7FKtE-_ix"
      },
      "execution_count": 7,
      "outputs": []
    },
    {
      "cell_type": "code",
      "source": [
        "Train.head()"
      ],
      "metadata": {
        "colab": {
          "base_uri": "https://localhost:8080/",
          "height": 300
        },
        "id": "WxAENDj4_OQ6",
        "outputId": "b6938134-f56a-4318-dac8-bf4d64f5902c"
      },
      "execution_count": 8,
      "outputs": [
        {
          "output_type": "execute_result",
          "data": {
            "text/plain": [
              "       child_id  data_year  child_date  child_age child_enrolment_date  \\\n",
              "0  ID_SYSJ2FM0D     2022.0  2022-02-03  59.000000                  NaN   \n",
              "1  ID_J5BTFOZR3     2019.0         NaN  60.163933                  NaN   \n",
              "2  ID_R00SN7AUD     2022.0  2022-03-11  69.000000                  NaN   \n",
              "3  ID_BSSK60PAZ     2021.0  2021-10-13  53.000000           2020-01-15   \n",
              "4  ID_IZTY6TC4D     2021.0  2021-10-13  57.000000           2021-10-13   \n",
              "\n",
              "   child_months_enrolment child_grant   child_years_in_programme  \\\n",
              "0                     NaN         NaN                        NaN   \n",
              "1                     NaN         NaN  1st year in the programme   \n",
              "2                     NaN         NaN                        NaN   \n",
              "3                    20.0          No  1st year in the programme   \n",
              "4                     0.0         NaN      2nd year in programme   \n",
              "\n",
              "   child_height child_observe_attentive  ... obs_cooking_5 obs_cooking_6  \\\n",
              "0           NaN               Sometimes  ...           NaN           NaN   \n",
              "1    103.000000               Sometimes  ...           NaN           NaN   \n",
              "2    108.400002                   Often  ...           NaN           NaN   \n",
              "3     98.099998           Almost always  ...           NaN           NaN   \n",
              "4    114.000000           Almost always  ...           0.0           0.0   \n",
              "\n",
              "  obs_heating_1  obs_heating_2 obs_heating_3 obs_heating_4  obs_heating_5  \\\n",
              "0           NaN            NaN           NaN           NaN            NaN   \n",
              "1           NaN            NaN           NaN           NaN            NaN   \n",
              "2           NaN            NaN           NaN           NaN            NaN   \n",
              "3           NaN            NaN           NaN           NaN            NaN   \n",
              "4           1.0            0.0           0.0           0.0            0.0   \n",
              "\n",
              "  obs_heating_6 obs_heating_7     target  \n",
              "0           NaN           NaN  51.500000  \n",
              "1           NaN           NaN  55.869999  \n",
              "2           NaN           NaN  47.520000  \n",
              "3           NaN           NaN  58.599998  \n",
              "4           0.0           0.0  76.599998  \n",
              "\n",
              "[5 rows x 679 columns]"
            ],
            "text/html": [
              "\n",
              "  <div id=\"df-86661844-cfee-4fd3-8062-c958df74aa3c\">\n",
              "    <div class=\"colab-df-container\">\n",
              "      <div>\n",
              "<style scoped>\n",
              "    .dataframe tbody tr th:only-of-type {\n",
              "        vertical-align: middle;\n",
              "    }\n",
              "\n",
              "    .dataframe tbody tr th {\n",
              "        vertical-align: top;\n",
              "    }\n",
              "\n",
              "    .dataframe thead th {\n",
              "        text-align: right;\n",
              "    }\n",
              "</style>\n",
              "<table border=\"1\" class=\"dataframe\">\n",
              "  <thead>\n",
              "    <tr style=\"text-align: right;\">\n",
              "      <th></th>\n",
              "      <th>child_id</th>\n",
              "      <th>data_year</th>\n",
              "      <th>child_date</th>\n",
              "      <th>child_age</th>\n",
              "      <th>child_enrolment_date</th>\n",
              "      <th>child_months_enrolment</th>\n",
              "      <th>child_grant</th>\n",
              "      <th>child_years_in_programme</th>\n",
              "      <th>child_height</th>\n",
              "      <th>child_observe_attentive</th>\n",
              "      <th>...</th>\n",
              "      <th>obs_cooking_5</th>\n",
              "      <th>obs_cooking_6</th>\n",
              "      <th>obs_heating_1</th>\n",
              "      <th>obs_heating_2</th>\n",
              "      <th>obs_heating_3</th>\n",
              "      <th>obs_heating_4</th>\n",
              "      <th>obs_heating_5</th>\n",
              "      <th>obs_heating_6</th>\n",
              "      <th>obs_heating_7</th>\n",
              "      <th>target</th>\n",
              "    </tr>\n",
              "  </thead>\n",
              "  <tbody>\n",
              "    <tr>\n",
              "      <th>0</th>\n",
              "      <td>ID_SYSJ2FM0D</td>\n",
              "      <td>2022.0</td>\n",
              "      <td>2022-02-03</td>\n",
              "      <td>59.000000</td>\n",
              "      <td>NaN</td>\n",
              "      <td>NaN</td>\n",
              "      <td>NaN</td>\n",
              "      <td>NaN</td>\n",
              "      <td>NaN</td>\n",
              "      <td>Sometimes</td>\n",
              "      <td>...</td>\n",
              "      <td>NaN</td>\n",
              "      <td>NaN</td>\n",
              "      <td>NaN</td>\n",
              "      <td>NaN</td>\n",
              "      <td>NaN</td>\n",
              "      <td>NaN</td>\n",
              "      <td>NaN</td>\n",
              "      <td>NaN</td>\n",
              "      <td>NaN</td>\n",
              "      <td>51.500000</td>\n",
              "    </tr>\n",
              "    <tr>\n",
              "      <th>1</th>\n",
              "      <td>ID_J5BTFOZR3</td>\n",
              "      <td>2019.0</td>\n",
              "      <td>NaN</td>\n",
              "      <td>60.163933</td>\n",
              "      <td>NaN</td>\n",
              "      <td>NaN</td>\n",
              "      <td>NaN</td>\n",
              "      <td>1st year in the programme</td>\n",
              "      <td>103.000000</td>\n",
              "      <td>Sometimes</td>\n",
              "      <td>...</td>\n",
              "      <td>NaN</td>\n",
              "      <td>NaN</td>\n",
              "      <td>NaN</td>\n",
              "      <td>NaN</td>\n",
              "      <td>NaN</td>\n",
              "      <td>NaN</td>\n",
              "      <td>NaN</td>\n",
              "      <td>NaN</td>\n",
              "      <td>NaN</td>\n",
              "      <td>55.869999</td>\n",
              "    </tr>\n",
              "    <tr>\n",
              "      <th>2</th>\n",
              "      <td>ID_R00SN7AUD</td>\n",
              "      <td>2022.0</td>\n",
              "      <td>2022-03-11</td>\n",
              "      <td>69.000000</td>\n",
              "      <td>NaN</td>\n",
              "      <td>NaN</td>\n",
              "      <td>NaN</td>\n",
              "      <td>NaN</td>\n",
              "      <td>108.400002</td>\n",
              "      <td>Often</td>\n",
              "      <td>...</td>\n",
              "      <td>NaN</td>\n",
              "      <td>NaN</td>\n",
              "      <td>NaN</td>\n",
              "      <td>NaN</td>\n",
              "      <td>NaN</td>\n",
              "      <td>NaN</td>\n",
              "      <td>NaN</td>\n",
              "      <td>NaN</td>\n",
              "      <td>NaN</td>\n",
              "      <td>47.520000</td>\n",
              "    </tr>\n",
              "    <tr>\n",
              "      <th>3</th>\n",
              "      <td>ID_BSSK60PAZ</td>\n",
              "      <td>2021.0</td>\n",
              "      <td>2021-10-13</td>\n",
              "      <td>53.000000</td>\n",
              "      <td>2020-01-15</td>\n",
              "      <td>20.0</td>\n",
              "      <td>No</td>\n",
              "      <td>1st year in the programme</td>\n",
              "      <td>98.099998</td>\n",
              "      <td>Almost always</td>\n",
              "      <td>...</td>\n",
              "      <td>NaN</td>\n",
              "      <td>NaN</td>\n",
              "      <td>NaN</td>\n",
              "      <td>NaN</td>\n",
              "      <td>NaN</td>\n",
              "      <td>NaN</td>\n",
              "      <td>NaN</td>\n",
              "      <td>NaN</td>\n",
              "      <td>NaN</td>\n",
              "      <td>58.599998</td>\n",
              "    </tr>\n",
              "    <tr>\n",
              "      <th>4</th>\n",
              "      <td>ID_IZTY6TC4D</td>\n",
              "      <td>2021.0</td>\n",
              "      <td>2021-10-13</td>\n",
              "      <td>57.000000</td>\n",
              "      <td>2021-10-13</td>\n",
              "      <td>0.0</td>\n",
              "      <td>NaN</td>\n",
              "      <td>2nd year in programme</td>\n",
              "      <td>114.000000</td>\n",
              "      <td>Almost always</td>\n",
              "      <td>...</td>\n",
              "      <td>0.0</td>\n",
              "      <td>0.0</td>\n",
              "      <td>1.0</td>\n",
              "      <td>0.0</td>\n",
              "      <td>0.0</td>\n",
              "      <td>0.0</td>\n",
              "      <td>0.0</td>\n",
              "      <td>0.0</td>\n",
              "      <td>0.0</td>\n",
              "      <td>76.599998</td>\n",
              "    </tr>\n",
              "  </tbody>\n",
              "</table>\n",
              "<p>5 rows × 679 columns</p>\n",
              "</div>\n",
              "      <button class=\"colab-df-convert\" onclick=\"convertToInteractive('df-86661844-cfee-4fd3-8062-c958df74aa3c')\"\n",
              "              title=\"Convert this dataframe to an interactive table.\"\n",
              "              style=\"display:none;\">\n",
              "        \n",
              "  <svg xmlns=\"http://www.w3.org/2000/svg\" height=\"24px\"viewBox=\"0 0 24 24\"\n",
              "       width=\"24px\">\n",
              "    <path d=\"M0 0h24v24H0V0z\" fill=\"none\"/>\n",
              "    <path d=\"M18.56 5.44l.94 2.06.94-2.06 2.06-.94-2.06-.94-.94-2.06-.94 2.06-2.06.94zm-11 1L8.5 8.5l.94-2.06 2.06-.94-2.06-.94L8.5 2.5l-.94 2.06-2.06.94zm10 10l.94 2.06.94-2.06 2.06-.94-2.06-.94-.94-2.06-.94 2.06-2.06.94z\"/><path d=\"M17.41 7.96l-1.37-1.37c-.4-.4-.92-.59-1.43-.59-.52 0-1.04.2-1.43.59L10.3 9.45l-7.72 7.72c-.78.78-.78 2.05 0 2.83L4 21.41c.39.39.9.59 1.41.59.51 0 1.02-.2 1.41-.59l7.78-7.78 2.81-2.81c.8-.78.8-2.07 0-2.86zM5.41 20L4 18.59l7.72-7.72 1.47 1.35L5.41 20z\"/>\n",
              "  </svg>\n",
              "      </button>\n",
              "      \n",
              "  <style>\n",
              "    .colab-df-container {\n",
              "      display:flex;\n",
              "      flex-wrap:wrap;\n",
              "      gap: 12px;\n",
              "    }\n",
              "\n",
              "    .colab-df-convert {\n",
              "      background-color: #E8F0FE;\n",
              "      border: none;\n",
              "      border-radius: 50%;\n",
              "      cursor: pointer;\n",
              "      display: none;\n",
              "      fill: #1967D2;\n",
              "      height: 32px;\n",
              "      padding: 0 0 0 0;\n",
              "      width: 32px;\n",
              "    }\n",
              "\n",
              "    .colab-df-convert:hover {\n",
              "      background-color: #E2EBFA;\n",
              "      box-shadow: 0px 1px 2px rgba(60, 64, 67, 0.3), 0px 1px 3px 1px rgba(60, 64, 67, 0.15);\n",
              "      fill: #174EA6;\n",
              "    }\n",
              "\n",
              "    [theme=dark] .colab-df-convert {\n",
              "      background-color: #3B4455;\n",
              "      fill: #D2E3FC;\n",
              "    }\n",
              "\n",
              "    [theme=dark] .colab-df-convert:hover {\n",
              "      background-color: #434B5C;\n",
              "      box-shadow: 0px 1px 3px 1px rgba(0, 0, 0, 0.15);\n",
              "      filter: drop-shadow(0px 1px 2px rgba(0, 0, 0, 0.3));\n",
              "      fill: #FFFFFF;\n",
              "    }\n",
              "  </style>\n",
              "\n",
              "      <script>\n",
              "        const buttonEl =\n",
              "          document.querySelector('#df-86661844-cfee-4fd3-8062-c958df74aa3c button.colab-df-convert');\n",
              "        buttonEl.style.display =\n",
              "          google.colab.kernel.accessAllowed ? 'block' : 'none';\n",
              "\n",
              "        async function convertToInteractive(key) {\n",
              "          const element = document.querySelector('#df-86661844-cfee-4fd3-8062-c958df74aa3c');\n",
              "          const dataTable =\n",
              "            await google.colab.kernel.invokeFunction('convertToInteractive',\n",
              "                                                     [key], {});\n",
              "          if (!dataTable) return;\n",
              "\n",
              "          const docLinkHtml = 'Like what you see? Visit the ' +\n",
              "            '<a target=\"_blank\" href=https://colab.research.google.com/notebooks/data_table.ipynb>data table notebook</a>'\n",
              "            + ' to learn more about interactive tables.';\n",
              "          element.innerHTML = '';\n",
              "          dataTable['output_type'] = 'display_data';\n",
              "          await google.colab.output.renderOutput(dataTable, element);\n",
              "          const docLink = document.createElement('div');\n",
              "          docLink.innerHTML = docLinkHtml;\n",
              "          element.appendChild(docLink);\n",
              "        }\n",
              "      </script>\n",
              "    </div>\n",
              "  </div>\n",
              "  "
            ]
          },
          "metadata": {},
          "execution_count": 8
        }
      ]
    },
    {
      "cell_type": "code",
      "source": [
        "Test.head()"
      ],
      "metadata": {
        "colab": {
          "base_uri": "https://localhost:8080/",
          "height": 300
        },
        "id": "P8IpuSyS_cgE",
        "outputId": "be18eece-cacd-4cf8-9750-ff1aabe8157b"
      },
      "execution_count": 9,
      "outputs": [
        {
          "output_type": "execute_result",
          "data": {
            "text/plain": [
              "       child_id  data_year  child_date  child_age child_enrolment_date  \\\n",
              "0  ID_0I0999N6S     2021.0  2021-09-20  57.000000                  NaN   \n",
              "1  ID_GQ6ONJ4FP     2021.0  2021-10-21  54.000000           2021-01-10   \n",
              "2  ID_YZ76CVRW3     2021.0  2021-05-17  57.000000                  NaN   \n",
              "3  ID_BNINCRXH8     2022.0  2022-09-09  59.334702                  NaN   \n",
              "4  ID_1U7GDTLRI     2021.0  2021-10-12  54.000000           2021-01-15   \n",
              "\n",
              "   child_months_enrolment child_grant   child_years_in_programme  \\\n",
              "0                     NaN         Yes      2nd year in programme   \n",
              "1                     9.0         Yes  1st year in the programme   \n",
              "2                     NaN         Yes                        NaN   \n",
              "3                     NaN         NaN      3rd year in programme   \n",
              "4                     8.0         Yes  1st year in the programme   \n",
              "\n",
              "   child_height child_observe_attentive  ... obs_cooking_4 obs_cooking_5  \\\n",
              "0         108.0           Almost always  ...           NaN           NaN   \n",
              "1         105.0           Almost always  ...           NaN           NaN   \n",
              "2         101.5                   Often  ...           NaN           NaN   \n",
              "3           NaN           Almost always  ...           0.0           0.0   \n",
              "4         103.5                   Often  ...           NaN           NaN   \n",
              "\n",
              "  obs_cooking_6  obs_heating_1 obs_heating_2 obs_heating_3  obs_heating_4  \\\n",
              "0           NaN            NaN           NaN           NaN            NaN   \n",
              "1           NaN            NaN           NaN           NaN            NaN   \n",
              "2           NaN            NaN           NaN           NaN            NaN   \n",
              "3           0.0            0.0           0.0           0.0            1.0   \n",
              "4           NaN            NaN           NaN           NaN            NaN   \n",
              "\n",
              "  obs_heating_5 obs_heating_6  obs_heating_7  \n",
              "0           NaN           NaN            NaN  \n",
              "1           NaN           NaN            NaN  \n",
              "2           NaN           NaN            NaN  \n",
              "3           0.0           0.0            0.0  \n",
              "4           NaN           NaN            NaN  \n",
              "\n",
              "[5 rows x 678 columns]"
            ],
            "text/html": [
              "\n",
              "  <div id=\"df-a789ee0f-494a-4df3-ad96-8e588a084352\">\n",
              "    <div class=\"colab-df-container\">\n",
              "      <div>\n",
              "<style scoped>\n",
              "    .dataframe tbody tr th:only-of-type {\n",
              "        vertical-align: middle;\n",
              "    }\n",
              "\n",
              "    .dataframe tbody tr th {\n",
              "        vertical-align: top;\n",
              "    }\n",
              "\n",
              "    .dataframe thead th {\n",
              "        text-align: right;\n",
              "    }\n",
              "</style>\n",
              "<table border=\"1\" class=\"dataframe\">\n",
              "  <thead>\n",
              "    <tr style=\"text-align: right;\">\n",
              "      <th></th>\n",
              "      <th>child_id</th>\n",
              "      <th>data_year</th>\n",
              "      <th>child_date</th>\n",
              "      <th>child_age</th>\n",
              "      <th>child_enrolment_date</th>\n",
              "      <th>child_months_enrolment</th>\n",
              "      <th>child_grant</th>\n",
              "      <th>child_years_in_programme</th>\n",
              "      <th>child_height</th>\n",
              "      <th>child_observe_attentive</th>\n",
              "      <th>...</th>\n",
              "      <th>obs_cooking_4</th>\n",
              "      <th>obs_cooking_5</th>\n",
              "      <th>obs_cooking_6</th>\n",
              "      <th>obs_heating_1</th>\n",
              "      <th>obs_heating_2</th>\n",
              "      <th>obs_heating_3</th>\n",
              "      <th>obs_heating_4</th>\n",
              "      <th>obs_heating_5</th>\n",
              "      <th>obs_heating_6</th>\n",
              "      <th>obs_heating_7</th>\n",
              "    </tr>\n",
              "  </thead>\n",
              "  <tbody>\n",
              "    <tr>\n",
              "      <th>0</th>\n",
              "      <td>ID_0I0999N6S</td>\n",
              "      <td>2021.0</td>\n",
              "      <td>2021-09-20</td>\n",
              "      <td>57.000000</td>\n",
              "      <td>NaN</td>\n",
              "      <td>NaN</td>\n",
              "      <td>Yes</td>\n",
              "      <td>2nd year in programme</td>\n",
              "      <td>108.0</td>\n",
              "      <td>Almost always</td>\n",
              "      <td>...</td>\n",
              "      <td>NaN</td>\n",
              "      <td>NaN</td>\n",
              "      <td>NaN</td>\n",
              "      <td>NaN</td>\n",
              "      <td>NaN</td>\n",
              "      <td>NaN</td>\n",
              "      <td>NaN</td>\n",
              "      <td>NaN</td>\n",
              "      <td>NaN</td>\n",
              "      <td>NaN</td>\n",
              "    </tr>\n",
              "    <tr>\n",
              "      <th>1</th>\n",
              "      <td>ID_GQ6ONJ4FP</td>\n",
              "      <td>2021.0</td>\n",
              "      <td>2021-10-21</td>\n",
              "      <td>54.000000</td>\n",
              "      <td>2021-01-10</td>\n",
              "      <td>9.0</td>\n",
              "      <td>Yes</td>\n",
              "      <td>1st year in the programme</td>\n",
              "      <td>105.0</td>\n",
              "      <td>Almost always</td>\n",
              "      <td>...</td>\n",
              "      <td>NaN</td>\n",
              "      <td>NaN</td>\n",
              "      <td>NaN</td>\n",
              "      <td>NaN</td>\n",
              "      <td>NaN</td>\n",
              "      <td>NaN</td>\n",
              "      <td>NaN</td>\n",
              "      <td>NaN</td>\n",
              "      <td>NaN</td>\n",
              "      <td>NaN</td>\n",
              "    </tr>\n",
              "    <tr>\n",
              "      <th>2</th>\n",
              "      <td>ID_YZ76CVRW3</td>\n",
              "      <td>2021.0</td>\n",
              "      <td>2021-05-17</td>\n",
              "      <td>57.000000</td>\n",
              "      <td>NaN</td>\n",
              "      <td>NaN</td>\n",
              "      <td>Yes</td>\n",
              "      <td>NaN</td>\n",
              "      <td>101.5</td>\n",
              "      <td>Often</td>\n",
              "      <td>...</td>\n",
              "      <td>NaN</td>\n",
              "      <td>NaN</td>\n",
              "      <td>NaN</td>\n",
              "      <td>NaN</td>\n",
              "      <td>NaN</td>\n",
              "      <td>NaN</td>\n",
              "      <td>NaN</td>\n",
              "      <td>NaN</td>\n",
              "      <td>NaN</td>\n",
              "      <td>NaN</td>\n",
              "    </tr>\n",
              "    <tr>\n",
              "      <th>3</th>\n",
              "      <td>ID_BNINCRXH8</td>\n",
              "      <td>2022.0</td>\n",
              "      <td>2022-09-09</td>\n",
              "      <td>59.334702</td>\n",
              "      <td>NaN</td>\n",
              "      <td>NaN</td>\n",
              "      <td>NaN</td>\n",
              "      <td>3rd year in programme</td>\n",
              "      <td>NaN</td>\n",
              "      <td>Almost always</td>\n",
              "      <td>...</td>\n",
              "      <td>0.0</td>\n",
              "      <td>0.0</td>\n",
              "      <td>0.0</td>\n",
              "      <td>0.0</td>\n",
              "      <td>0.0</td>\n",
              "      <td>0.0</td>\n",
              "      <td>1.0</td>\n",
              "      <td>0.0</td>\n",
              "      <td>0.0</td>\n",
              "      <td>0.0</td>\n",
              "    </tr>\n",
              "    <tr>\n",
              "      <th>4</th>\n",
              "      <td>ID_1U7GDTLRI</td>\n",
              "      <td>2021.0</td>\n",
              "      <td>2021-10-12</td>\n",
              "      <td>54.000000</td>\n",
              "      <td>2021-01-15</td>\n",
              "      <td>8.0</td>\n",
              "      <td>Yes</td>\n",
              "      <td>1st year in the programme</td>\n",
              "      <td>103.5</td>\n",
              "      <td>Often</td>\n",
              "      <td>...</td>\n",
              "      <td>NaN</td>\n",
              "      <td>NaN</td>\n",
              "      <td>NaN</td>\n",
              "      <td>NaN</td>\n",
              "      <td>NaN</td>\n",
              "      <td>NaN</td>\n",
              "      <td>NaN</td>\n",
              "      <td>NaN</td>\n",
              "      <td>NaN</td>\n",
              "      <td>NaN</td>\n",
              "    </tr>\n",
              "  </tbody>\n",
              "</table>\n",
              "<p>5 rows × 678 columns</p>\n",
              "</div>\n",
              "      <button class=\"colab-df-convert\" onclick=\"convertToInteractive('df-a789ee0f-494a-4df3-ad96-8e588a084352')\"\n",
              "              title=\"Convert this dataframe to an interactive table.\"\n",
              "              style=\"display:none;\">\n",
              "        \n",
              "  <svg xmlns=\"http://www.w3.org/2000/svg\" height=\"24px\"viewBox=\"0 0 24 24\"\n",
              "       width=\"24px\">\n",
              "    <path d=\"M0 0h24v24H0V0z\" fill=\"none\"/>\n",
              "    <path d=\"M18.56 5.44l.94 2.06.94-2.06 2.06-.94-2.06-.94-.94-2.06-.94 2.06-2.06.94zm-11 1L8.5 8.5l.94-2.06 2.06-.94-2.06-.94L8.5 2.5l-.94 2.06-2.06.94zm10 10l.94 2.06.94-2.06 2.06-.94-2.06-.94-.94-2.06-.94 2.06-2.06.94z\"/><path d=\"M17.41 7.96l-1.37-1.37c-.4-.4-.92-.59-1.43-.59-.52 0-1.04.2-1.43.59L10.3 9.45l-7.72 7.72c-.78.78-.78 2.05 0 2.83L4 21.41c.39.39.9.59 1.41.59.51 0 1.02-.2 1.41-.59l7.78-7.78 2.81-2.81c.8-.78.8-2.07 0-2.86zM5.41 20L4 18.59l7.72-7.72 1.47 1.35L5.41 20z\"/>\n",
              "  </svg>\n",
              "      </button>\n",
              "      \n",
              "  <style>\n",
              "    .colab-df-container {\n",
              "      display:flex;\n",
              "      flex-wrap:wrap;\n",
              "      gap: 12px;\n",
              "    }\n",
              "\n",
              "    .colab-df-convert {\n",
              "      background-color: #E8F0FE;\n",
              "      border: none;\n",
              "      border-radius: 50%;\n",
              "      cursor: pointer;\n",
              "      display: none;\n",
              "      fill: #1967D2;\n",
              "      height: 32px;\n",
              "      padding: 0 0 0 0;\n",
              "      width: 32px;\n",
              "    }\n",
              "\n",
              "    .colab-df-convert:hover {\n",
              "      background-color: #E2EBFA;\n",
              "      box-shadow: 0px 1px 2px rgba(60, 64, 67, 0.3), 0px 1px 3px 1px rgba(60, 64, 67, 0.15);\n",
              "      fill: #174EA6;\n",
              "    }\n",
              "\n",
              "    [theme=dark] .colab-df-convert {\n",
              "      background-color: #3B4455;\n",
              "      fill: #D2E3FC;\n",
              "    }\n",
              "\n",
              "    [theme=dark] .colab-df-convert:hover {\n",
              "      background-color: #434B5C;\n",
              "      box-shadow: 0px 1px 3px 1px rgba(0, 0, 0, 0.15);\n",
              "      filter: drop-shadow(0px 1px 2px rgba(0, 0, 0, 0.3));\n",
              "      fill: #FFFFFF;\n",
              "    }\n",
              "  </style>\n",
              "\n",
              "      <script>\n",
              "        const buttonEl =\n",
              "          document.querySelector('#df-a789ee0f-494a-4df3-ad96-8e588a084352 button.colab-df-convert');\n",
              "        buttonEl.style.display =\n",
              "          google.colab.kernel.accessAllowed ? 'block' : 'none';\n",
              "\n",
              "        async function convertToInteractive(key) {\n",
              "          const element = document.querySelector('#df-a789ee0f-494a-4df3-ad96-8e588a084352');\n",
              "          const dataTable =\n",
              "            await google.colab.kernel.invokeFunction('convertToInteractive',\n",
              "                                                     [key], {});\n",
              "          if (!dataTable) return;\n",
              "\n",
              "          const docLinkHtml = 'Like what you see? Visit the ' +\n",
              "            '<a target=\"_blank\" href=https://colab.research.google.com/notebooks/data_table.ipynb>data table notebook</a>'\n",
              "            + ' to learn more about interactive tables.';\n",
              "          element.innerHTML = '';\n",
              "          dataTable['output_type'] = 'display_data';\n",
              "          await google.colab.output.renderOutput(dataTable, element);\n",
              "          const docLink = document.createElement('div');\n",
              "          docLink.innerHTML = docLinkHtml;\n",
              "          element.appendChild(docLink);\n",
              "        }\n",
              "      </script>\n",
              "    </div>\n",
              "  </div>\n",
              "  "
            ]
          },
          "metadata": {},
          "execution_count": 9
        }
      ]
    },
    {
      "cell_type": "code",
      "source": [
        "pd.set_option('display.max_colwidth', 100)\n",
        "VarD"
      ],
      "metadata": {
        "colab": {
          "base_uri": "https://localhost:8080/",
          "height": 424
        },
        "id": "eSYvngMzIJtB",
        "outputId": "47566032-28ac-4e0a-ee69-803d681200b2"
      },
      "execution_count": 10,
      "outputs": [
        {
          "output_type": "execute_result",
          "data": {
            "text/plain": [
              "            Variable Name  \\\n",
              "0                child_id   \n",
              "1               data_year   \n",
              "2              child_date   \n",
              "3               child_age   \n",
              "4    child_enrolment_date   \n",
              "..                    ...   \n",
              "676         child_attends   \n",
              "677      child_attendance   \n",
              "678       child_languages   \n",
              "679    pri_fees_amount_pv   \n",
              "680         pri_languages   \n",
              "\n",
              "                                                     Variable Label  \\\n",
              "0                                                   Unique child ID   \n",
              "1                                           Year data was collected   \n",
              "2                                                         ELOM date   \n",
              "3                                               Child age in months   \n",
              "4                                              Date enrolled in ELP   \n",
              "..                                                              ...   \n",
              "676                             Does child attend an ECD programme?   \n",
              "677  How many days per week does the child attend the ECD programme   \n",
              "678                                          Child home language(s)   \n",
              "679                            Facility monthly fee (present value)   \n",
              "680                      Main language(s) of learning and teaching?   \n",
              "\n",
              "    Answer Label  \n",
              "0     Open ended  \n",
              "1     Open ended  \n",
              "2     Open ended  \n",
              "3     Open ended  \n",
              "4     Open ended  \n",
              "..           ...  \n",
              "676          NaN  \n",
              "677          NaN  \n",
              "678          NaN  \n",
              "679          NaN  \n",
              "680          NaN  \n",
              "\n",
              "[681 rows x 3 columns]"
            ],
            "text/html": [
              "\n",
              "  <div id=\"df-a99d1da4-bbd2-4855-9765-3c36f1cb8bcd\">\n",
              "    <div class=\"colab-df-container\">\n",
              "      <div>\n",
              "<style scoped>\n",
              "    .dataframe tbody tr th:only-of-type {\n",
              "        vertical-align: middle;\n",
              "    }\n",
              "\n",
              "    .dataframe tbody tr th {\n",
              "        vertical-align: top;\n",
              "    }\n",
              "\n",
              "    .dataframe thead th {\n",
              "        text-align: right;\n",
              "    }\n",
              "</style>\n",
              "<table border=\"1\" class=\"dataframe\">\n",
              "  <thead>\n",
              "    <tr style=\"text-align: right;\">\n",
              "      <th></th>\n",
              "      <th>Variable Name</th>\n",
              "      <th>Variable Label</th>\n",
              "      <th>Answer Label</th>\n",
              "    </tr>\n",
              "  </thead>\n",
              "  <tbody>\n",
              "    <tr>\n",
              "      <th>0</th>\n",
              "      <td>child_id</td>\n",
              "      <td>Unique child ID</td>\n",
              "      <td>Open ended</td>\n",
              "    </tr>\n",
              "    <tr>\n",
              "      <th>1</th>\n",
              "      <td>data_year</td>\n",
              "      <td>Year data was collected</td>\n",
              "      <td>Open ended</td>\n",
              "    </tr>\n",
              "    <tr>\n",
              "      <th>2</th>\n",
              "      <td>child_date</td>\n",
              "      <td>ELOM date</td>\n",
              "      <td>Open ended</td>\n",
              "    </tr>\n",
              "    <tr>\n",
              "      <th>3</th>\n",
              "      <td>child_age</td>\n",
              "      <td>Child age in months</td>\n",
              "      <td>Open ended</td>\n",
              "    </tr>\n",
              "    <tr>\n",
              "      <th>4</th>\n",
              "      <td>child_enrolment_date</td>\n",
              "      <td>Date enrolled in ELP</td>\n",
              "      <td>Open ended</td>\n",
              "    </tr>\n",
              "    <tr>\n",
              "      <th>...</th>\n",
              "      <td>...</td>\n",
              "      <td>...</td>\n",
              "      <td>...</td>\n",
              "    </tr>\n",
              "    <tr>\n",
              "      <th>676</th>\n",
              "      <td>child_attends</td>\n",
              "      <td>Does child attend an ECD programme?</td>\n",
              "      <td>NaN</td>\n",
              "    </tr>\n",
              "    <tr>\n",
              "      <th>677</th>\n",
              "      <td>child_attendance</td>\n",
              "      <td>How many days per week does the child attend the ECD programme</td>\n",
              "      <td>NaN</td>\n",
              "    </tr>\n",
              "    <tr>\n",
              "      <th>678</th>\n",
              "      <td>child_languages</td>\n",
              "      <td>Child home language(s)</td>\n",
              "      <td>NaN</td>\n",
              "    </tr>\n",
              "    <tr>\n",
              "      <th>679</th>\n",
              "      <td>pri_fees_amount_pv</td>\n",
              "      <td>Facility monthly fee (present value)</td>\n",
              "      <td>NaN</td>\n",
              "    </tr>\n",
              "    <tr>\n",
              "      <th>680</th>\n",
              "      <td>pri_languages</td>\n",
              "      <td>Main language(s) of learning and teaching?</td>\n",
              "      <td>NaN</td>\n",
              "    </tr>\n",
              "  </tbody>\n",
              "</table>\n",
              "<p>681 rows × 3 columns</p>\n",
              "</div>\n",
              "      <button class=\"colab-df-convert\" onclick=\"convertToInteractive('df-a99d1da4-bbd2-4855-9765-3c36f1cb8bcd')\"\n",
              "              title=\"Convert this dataframe to an interactive table.\"\n",
              "              style=\"display:none;\">\n",
              "        \n",
              "  <svg xmlns=\"http://www.w3.org/2000/svg\" height=\"24px\"viewBox=\"0 0 24 24\"\n",
              "       width=\"24px\">\n",
              "    <path d=\"M0 0h24v24H0V0z\" fill=\"none\"/>\n",
              "    <path d=\"M18.56 5.44l.94 2.06.94-2.06 2.06-.94-2.06-.94-.94-2.06-.94 2.06-2.06.94zm-11 1L8.5 8.5l.94-2.06 2.06-.94-2.06-.94L8.5 2.5l-.94 2.06-2.06.94zm10 10l.94 2.06.94-2.06 2.06-.94-2.06-.94-.94-2.06-.94 2.06-2.06.94z\"/><path d=\"M17.41 7.96l-1.37-1.37c-.4-.4-.92-.59-1.43-.59-.52 0-1.04.2-1.43.59L10.3 9.45l-7.72 7.72c-.78.78-.78 2.05 0 2.83L4 21.41c.39.39.9.59 1.41.59.51 0 1.02-.2 1.41-.59l7.78-7.78 2.81-2.81c.8-.78.8-2.07 0-2.86zM5.41 20L4 18.59l7.72-7.72 1.47 1.35L5.41 20z\"/>\n",
              "  </svg>\n",
              "      </button>\n",
              "      \n",
              "  <style>\n",
              "    .colab-df-container {\n",
              "      display:flex;\n",
              "      flex-wrap:wrap;\n",
              "      gap: 12px;\n",
              "    }\n",
              "\n",
              "    .colab-df-convert {\n",
              "      background-color: #E8F0FE;\n",
              "      border: none;\n",
              "      border-radius: 50%;\n",
              "      cursor: pointer;\n",
              "      display: none;\n",
              "      fill: #1967D2;\n",
              "      height: 32px;\n",
              "      padding: 0 0 0 0;\n",
              "      width: 32px;\n",
              "    }\n",
              "\n",
              "    .colab-df-convert:hover {\n",
              "      background-color: #E2EBFA;\n",
              "      box-shadow: 0px 1px 2px rgba(60, 64, 67, 0.3), 0px 1px 3px 1px rgba(60, 64, 67, 0.15);\n",
              "      fill: #174EA6;\n",
              "    }\n",
              "\n",
              "    [theme=dark] .colab-df-convert {\n",
              "      background-color: #3B4455;\n",
              "      fill: #D2E3FC;\n",
              "    }\n",
              "\n",
              "    [theme=dark] .colab-df-convert:hover {\n",
              "      background-color: #434B5C;\n",
              "      box-shadow: 0px 1px 3px 1px rgba(0, 0, 0, 0.15);\n",
              "      filter: drop-shadow(0px 1px 2px rgba(0, 0, 0, 0.3));\n",
              "      fill: #FFFFFF;\n",
              "    }\n",
              "  </style>\n",
              "\n",
              "      <script>\n",
              "        const buttonEl =\n",
              "          document.querySelector('#df-a99d1da4-bbd2-4855-9765-3c36f1cb8bcd button.colab-df-convert');\n",
              "        buttonEl.style.display =\n",
              "          google.colab.kernel.accessAllowed ? 'block' : 'none';\n",
              "\n",
              "        async function convertToInteractive(key) {\n",
              "          const element = document.querySelector('#df-a99d1da4-bbd2-4855-9765-3c36f1cb8bcd');\n",
              "          const dataTable =\n",
              "            await google.colab.kernel.invokeFunction('convertToInteractive',\n",
              "                                                     [key], {});\n",
              "          if (!dataTable) return;\n",
              "\n",
              "          const docLinkHtml = 'Like what you see? Visit the ' +\n",
              "            '<a target=\"_blank\" href=https://colab.research.google.com/notebooks/data_table.ipynb>data table notebook</a>'\n",
              "            + ' to learn more about interactive tables.';\n",
              "          element.innerHTML = '';\n",
              "          dataTable['output_type'] = 'display_data';\n",
              "          await google.colab.output.renderOutput(dataTable, element);\n",
              "          const docLink = document.createElement('div');\n",
              "          docLink.innerHTML = docLinkHtml;\n",
              "          element.appendChild(docLink);\n",
              "        }\n",
              "      </script>\n",
              "    </div>\n",
              "  </div>\n",
              "  "
            ]
          },
          "metadata": {},
          "execution_count": 10
        }
      ]
    },
    {
      "cell_type": "code",
      "source": [
        "vard = VarD.set_index('Variable Name').T"
      ],
      "metadata": {
        "id": "BJdTVpOrnm1a"
      },
      "execution_count": 11,
      "outputs": []
    },
    {
      "cell_type": "code",
      "source": [
        "def plot_missing_cols(df, threshold=0.8, plot=True):\n",
        "  missing_per = df.isnull().sum()/len(df)\n",
        "  missing_per_thresh = missing_per[missing_per>threshold]\n",
        "  if plot:\n",
        "    plt.figure(figsize=(20,10))\n",
        "    plt.barh(missing_per_thresh.index, missing_per_thresh.values * 100)\n",
        "    plt.xlabel('Percentage of missing values')\n",
        "    plt.title(f'Missing percentage above {threshold*100}% theshold')\n",
        "    plt.show()\n",
        "  return missing_per_thresh.index\n"
      ],
      "metadata": {
        "id": "YFQ4tQYnVH1X"
      },
      "execution_count": 12,
      "outputs": []
    },
    {
      "cell_type": "markdown",
      "source": [
        "##Feature Visualization"
      ],
      "metadata": {
        "id": "3AemNyp5gy8o"
      }
    },
    {
      "cell_type": "code",
      "source": [
        "def scatterplot(x,y):\n",
        "  fig, ax = plt.subplots()\n",
        "  ax.scatter(x,y)\n",
        "  ax.set_xlabel(x.name)\n",
        "  ax.set_ylabel(y.name)\n",
        "  ax.set_title(f'{x.name} vs {y.name}')\n",
        "  plt.show()"
      ],
      "metadata": {
        "id": "asUxK5f6qhI3"
      },
      "execution_count": 13,
      "outputs": []
    },
    {
      "cell_type": "code",
      "source": [
        "def boxplot(df):\n",
        "  fig, ax = plt.subplots()\n",
        "  ax.boxplot(df)\n",
        "  ax.set_xticklabels(list(df.columns))\n",
        "  ax.set_ylabel('Value')\n",
        "  ax.set_title(f'Boxplot of {\" vs \".join(list(df.columns))}')\n",
        "  plt.show()"
      ],
      "metadata": {
        "id": "0YvtWP6Grq7o"
      },
      "execution_count": 14,
      "outputs": []
    },
    {
      "cell_type": "code",
      "source": [
        "def heatmap(df, length=10, width=5, cmap='rocket'):\n",
        "  heatmap_df = df.corr()\n",
        "  fig, ax = plt.subplots(figsize=(length, width))\n",
        "  sns.heatmap(data=heatmap_df, annot=True, cmap=cmap, ax=ax)\n",
        "  ax.set_title(f'Heatmap of {\" and \".join(list(df.columns))}')\n",
        "  plt.show()"
      ],
      "metadata": {
        "id": "4njkxSIxwi5u"
      },
      "execution_count": 15,
      "outputs": []
    },
    {
      "cell_type": "code",
      "source": [
        "def violinplot(x, y,hue,length=10, width=5):\n",
        "  fig, ax = plt.subplots(figsize=(length,width))\n",
        "  sns.violinplot(x=x,y=y,hue=hue,ax=ax)\n",
        "  ax.set_title(f'ViolinPlot of {x.name} and {y.name}')\n",
        "  ax.set_xlabel(x.name)\n",
        "  ax.set_ylabel(y.name)\n",
        "  plt.legend(title=hue.name)\n",
        "  plt.show()"
      ],
      "metadata": {
        "id": "IBPBQernMOqI"
      },
      "execution_count": 16,
      "outputs": []
    },
    {
      "cell_type": "code",
      "source": [
        "def barchart(x,y,length=10,width=5):\n",
        "  fig, ax = plt.subplots(figsize=(length,width))\n",
        "  sns.barplot(x=x,y=y,ax=ax)\n",
        "  ax.set_title(f'Bar Chart of {x.name} and {y.name}')\n",
        "  ax.set_xlabel(x.name)\n",
        "  ax.set_ylabel(y.name)\n",
        "  plt.show()"
      ],
      "metadata": {
        "id": "BvTqua7BHI3N"
      },
      "execution_count": 17,
      "outputs": []
    },
    {
      "cell_type": "code",
      "source": [
        "def stack_barchart(x,y,hue,length=10,width=5):\n",
        "  fig, ax = plt.subplots(figsize=(length,width))\n",
        "  sns.barplot(x=x,y=y,hue=hue,ax=ax)\n",
        "  ax.set_title(f'Bar Chart of {x.name} and {y.name}')\n",
        "  ax.set_xlabel(x.name)\n",
        "  ax.set_ylabel(y.name)\n",
        "  plt.legend(title=hue.name)\n",
        "  plt.show()"
      ],
      "metadata": {
        "id": "rxCTpJB2JnsF"
      },
      "execution_count": 18,
      "outputs": []
    },
    {
      "cell_type": "code",
      "source": [
        "Train['Train'] = 'Train'\n",
        "Test['Train'] = 'Test'\n",
        "Data = pd.concat([Train, Test])\n",
        "data = Data.drop(['child_id'],axis=1)"
      ],
      "metadata": {
        "id": "zo4dRk7Uf3FQ"
      },
      "execution_count": 19,
      "outputs": []
    },
    {
      "cell_type": "code",
      "source": [
        "def targetmap(age, target):\n",
        "  if (age >= 50) and (age <= 59):\n",
        "    if (target >= 0) and (target <= 36.01):\n",
        "      return \"At Risk\"\n",
        "    elif (target >= 36.02) and (target <= 46.31):\n",
        "      return \"Falling Behind\"\n",
        "    elif (target >= 46.32) and (target <= 100):\n",
        "      return \"Achieving the Standard\"\n",
        "  \n",
        "  elif (age >= 60) and (age <= 69):\n",
        "    if (target >= 0) and (target <= 43.23):\n",
        "      return \"At Risk\"\n",
        "    elif (target >= 43.24) and (target <= 54.37):\n",
        "      return \"Falling Behind\"\n",
        "    elif (target >= 54.38) and (target <= 100):\n",
        "      return \"Achieving the Standard\""
      ],
      "metadata": {
        "id": "Sfwvs7OcMP7_"
      },
      "execution_count": 60,
      "outputs": []
    },
    {
      "cell_type": "code",
      "source": [
        "Train['target_cat'] = Train[['child_age','target']].apply(lambda row:targetmap(row[0],row[1]),axis=1)"
      ],
      "metadata": {
        "id": "5U3ojGCRO2Z1"
      },
      "execution_count": 61,
      "outputs": []
    },
    {
      "cell_type": "code",
      "source": [
        "#Checking out the Children Columns\n",
        "Train.filter(like='child').head(3)"
      ],
      "metadata": {
        "colab": {
          "base_uri": "https://localhost:8080/",
          "height": 237
        },
        "id": "z7OwlOAJm2a3",
        "outputId": "7855be67-6480-45f4-d324-9274cc0c65b1"
      },
      "execution_count": 62,
      "outputs": [
        {
          "output_type": "execute_result",
          "data": {
            "text/plain": [
              "       child_id  child_date  child_age child_enrolment_date  \\\n",
              "0  ID_SYSJ2FM0D  2022-02-03  59.000000                  NaN   \n",
              "1  ID_J5BTFOZR3         NaN  60.163933                  NaN   \n",
              "2  ID_R00SN7AUD  2022-03-11  69.000000                  NaN   \n",
              "\n",
              "   child_months_enrolment child_grant   child_years_in_programme  \\\n",
              "0                     NaN         NaN                        NaN   \n",
              "1                     NaN         NaN  1st year in the programme   \n",
              "2                     NaN         NaN                        NaN   \n",
              "\n",
              "   child_height child_observe_attentive child_observe_concentrated  ...  \\\n",
              "0           NaN               Sometimes                  Sometimes  ...   \n",
              "1    103.000000               Sometimes               Almost never  ...   \n",
              "2    108.400002                   Often                      Often  ...   \n",
              "\n",
              "  child_attendance child_languages  child_age_group pri_children_4_6_years  \\\n",
              "0              NaN             NaN     50-59 months                    NaN   \n",
              "1              NaN             NaN     60-69 months                    NaN   \n",
              "2              NaN             NaN     60-69 months                    NaN   \n",
              "\n",
              "  obs_toilets_children  count_children_present count_children_attendance  \\\n",
              "0                  NaN                     NaN                       NaN   \n",
              "1                  NaN                     NaN                       NaN   \n",
              "2                  NaN                     NaN                       NaN   \n",
              "\n",
              "  count_children_precovid  count_toilets_children language_child  \n",
              "0                     NaN                     NaN        Sesotho  \n",
              "1                     NaN                     NaN        isiZulu  \n",
              "2                     NaN                     8.0      Afrikaans  \n",
              "\n",
              "[3 rows x 28 columns]"
            ],
            "text/html": [
              "\n",
              "  <div id=\"df-2abf849b-ca0b-4a50-a7a0-5515eb411c25\">\n",
              "    <div class=\"colab-df-container\">\n",
              "      <div>\n",
              "<style scoped>\n",
              "    .dataframe tbody tr th:only-of-type {\n",
              "        vertical-align: middle;\n",
              "    }\n",
              "\n",
              "    .dataframe tbody tr th {\n",
              "        vertical-align: top;\n",
              "    }\n",
              "\n",
              "    .dataframe thead th {\n",
              "        text-align: right;\n",
              "    }\n",
              "</style>\n",
              "<table border=\"1\" class=\"dataframe\">\n",
              "  <thead>\n",
              "    <tr style=\"text-align: right;\">\n",
              "      <th></th>\n",
              "      <th>child_id</th>\n",
              "      <th>child_date</th>\n",
              "      <th>child_age</th>\n",
              "      <th>child_enrolment_date</th>\n",
              "      <th>child_months_enrolment</th>\n",
              "      <th>child_grant</th>\n",
              "      <th>child_years_in_programme</th>\n",
              "      <th>child_height</th>\n",
              "      <th>child_observe_attentive</th>\n",
              "      <th>child_observe_concentrated</th>\n",
              "      <th>...</th>\n",
              "      <th>child_attendance</th>\n",
              "      <th>child_languages</th>\n",
              "      <th>child_age_group</th>\n",
              "      <th>pri_children_4_6_years</th>\n",
              "      <th>obs_toilets_children</th>\n",
              "      <th>count_children_present</th>\n",
              "      <th>count_children_attendance</th>\n",
              "      <th>count_children_precovid</th>\n",
              "      <th>count_toilets_children</th>\n",
              "      <th>language_child</th>\n",
              "    </tr>\n",
              "  </thead>\n",
              "  <tbody>\n",
              "    <tr>\n",
              "      <th>0</th>\n",
              "      <td>ID_SYSJ2FM0D</td>\n",
              "      <td>2022-02-03</td>\n",
              "      <td>59.000000</td>\n",
              "      <td>NaN</td>\n",
              "      <td>NaN</td>\n",
              "      <td>NaN</td>\n",
              "      <td>NaN</td>\n",
              "      <td>NaN</td>\n",
              "      <td>Sometimes</td>\n",
              "      <td>Sometimes</td>\n",
              "      <td>...</td>\n",
              "      <td>NaN</td>\n",
              "      <td>NaN</td>\n",
              "      <td>50-59 months</td>\n",
              "      <td>NaN</td>\n",
              "      <td>NaN</td>\n",
              "      <td>NaN</td>\n",
              "      <td>NaN</td>\n",
              "      <td>NaN</td>\n",
              "      <td>NaN</td>\n",
              "      <td>Sesotho</td>\n",
              "    </tr>\n",
              "    <tr>\n",
              "      <th>1</th>\n",
              "      <td>ID_J5BTFOZR3</td>\n",
              "      <td>NaN</td>\n",
              "      <td>60.163933</td>\n",
              "      <td>NaN</td>\n",
              "      <td>NaN</td>\n",
              "      <td>NaN</td>\n",
              "      <td>1st year in the programme</td>\n",
              "      <td>103.000000</td>\n",
              "      <td>Sometimes</td>\n",
              "      <td>Almost never</td>\n",
              "      <td>...</td>\n",
              "      <td>NaN</td>\n",
              "      <td>NaN</td>\n",
              "      <td>60-69 months</td>\n",
              "      <td>NaN</td>\n",
              "      <td>NaN</td>\n",
              "      <td>NaN</td>\n",
              "      <td>NaN</td>\n",
              "      <td>NaN</td>\n",
              "      <td>NaN</td>\n",
              "      <td>isiZulu</td>\n",
              "    </tr>\n",
              "    <tr>\n",
              "      <th>2</th>\n",
              "      <td>ID_R00SN7AUD</td>\n",
              "      <td>2022-03-11</td>\n",
              "      <td>69.000000</td>\n",
              "      <td>NaN</td>\n",
              "      <td>NaN</td>\n",
              "      <td>NaN</td>\n",
              "      <td>NaN</td>\n",
              "      <td>108.400002</td>\n",
              "      <td>Often</td>\n",
              "      <td>Often</td>\n",
              "      <td>...</td>\n",
              "      <td>NaN</td>\n",
              "      <td>NaN</td>\n",
              "      <td>60-69 months</td>\n",
              "      <td>NaN</td>\n",
              "      <td>NaN</td>\n",
              "      <td>NaN</td>\n",
              "      <td>NaN</td>\n",
              "      <td>NaN</td>\n",
              "      <td>8.0</td>\n",
              "      <td>Afrikaans</td>\n",
              "    </tr>\n",
              "  </tbody>\n",
              "</table>\n",
              "<p>3 rows × 28 columns</p>\n",
              "</div>\n",
              "      <button class=\"colab-df-convert\" onclick=\"convertToInteractive('df-2abf849b-ca0b-4a50-a7a0-5515eb411c25')\"\n",
              "              title=\"Convert this dataframe to an interactive table.\"\n",
              "              style=\"display:none;\">\n",
              "        \n",
              "  <svg xmlns=\"http://www.w3.org/2000/svg\" height=\"24px\"viewBox=\"0 0 24 24\"\n",
              "       width=\"24px\">\n",
              "    <path d=\"M0 0h24v24H0V0z\" fill=\"none\"/>\n",
              "    <path d=\"M18.56 5.44l.94 2.06.94-2.06 2.06-.94-2.06-.94-.94-2.06-.94 2.06-2.06.94zm-11 1L8.5 8.5l.94-2.06 2.06-.94-2.06-.94L8.5 2.5l-.94 2.06-2.06.94zm10 10l.94 2.06.94-2.06 2.06-.94-2.06-.94-.94-2.06-.94 2.06-2.06.94z\"/><path d=\"M17.41 7.96l-1.37-1.37c-.4-.4-.92-.59-1.43-.59-.52 0-1.04.2-1.43.59L10.3 9.45l-7.72 7.72c-.78.78-.78 2.05 0 2.83L4 21.41c.39.39.9.59 1.41.59.51 0 1.02-.2 1.41-.59l7.78-7.78 2.81-2.81c.8-.78.8-2.07 0-2.86zM5.41 20L4 18.59l7.72-7.72 1.47 1.35L5.41 20z\"/>\n",
              "  </svg>\n",
              "      </button>\n",
              "      \n",
              "  <style>\n",
              "    .colab-df-container {\n",
              "      display:flex;\n",
              "      flex-wrap:wrap;\n",
              "      gap: 12px;\n",
              "    }\n",
              "\n",
              "    .colab-df-convert {\n",
              "      background-color: #E8F0FE;\n",
              "      border: none;\n",
              "      border-radius: 50%;\n",
              "      cursor: pointer;\n",
              "      display: none;\n",
              "      fill: #1967D2;\n",
              "      height: 32px;\n",
              "      padding: 0 0 0 0;\n",
              "      width: 32px;\n",
              "    }\n",
              "\n",
              "    .colab-df-convert:hover {\n",
              "      background-color: #E2EBFA;\n",
              "      box-shadow: 0px 1px 2px rgba(60, 64, 67, 0.3), 0px 1px 3px 1px rgba(60, 64, 67, 0.15);\n",
              "      fill: #174EA6;\n",
              "    }\n",
              "\n",
              "    [theme=dark] .colab-df-convert {\n",
              "      background-color: #3B4455;\n",
              "      fill: #D2E3FC;\n",
              "    }\n",
              "\n",
              "    [theme=dark] .colab-df-convert:hover {\n",
              "      background-color: #434B5C;\n",
              "      box-shadow: 0px 1px 3px 1px rgba(0, 0, 0, 0.15);\n",
              "      filter: drop-shadow(0px 1px 2px rgba(0, 0, 0, 0.3));\n",
              "      fill: #FFFFFF;\n",
              "    }\n",
              "  </style>\n",
              "\n",
              "      <script>\n",
              "        const buttonEl =\n",
              "          document.querySelector('#df-2abf849b-ca0b-4a50-a7a0-5515eb411c25 button.colab-df-convert');\n",
              "        buttonEl.style.display =\n",
              "          google.colab.kernel.accessAllowed ? 'block' : 'none';\n",
              "\n",
              "        async function convertToInteractive(key) {\n",
              "          const element = document.querySelector('#df-2abf849b-ca0b-4a50-a7a0-5515eb411c25');\n",
              "          const dataTable =\n",
              "            await google.colab.kernel.invokeFunction('convertToInteractive',\n",
              "                                                     [key], {});\n",
              "          if (!dataTable) return;\n",
              "\n",
              "          const docLinkHtml = 'Like what you see? Visit the ' +\n",
              "            '<a target=\"_blank\" href=https://colab.research.google.com/notebooks/data_table.ipynb>data table notebook</a>'\n",
              "            + ' to learn more about interactive tables.';\n",
              "          element.innerHTML = '';\n",
              "          dataTable['output_type'] = 'display_data';\n",
              "          await google.colab.output.renderOutput(dataTable, element);\n",
              "          const docLink = document.createElement('div');\n",
              "          docLink.innerHTML = docLinkHtml;\n",
              "          element.appendChild(docLink);\n",
              "        }\n",
              "      </script>\n",
              "    </div>\n",
              "  </div>\n",
              "  "
            ]
          },
          "metadata": {},
          "execution_count": 62
        }
      ]
    },
    {
      "cell_type": "code",
      "source": [
        "vard[Train.filter(like='child').columns]"
      ],
      "metadata": {
        "colab": {
          "base_uri": "https://localhost:8080/",
          "height": 362
        },
        "id": "FGt4RrMmnsb8",
        "outputId": "2a89766f-dc7a-43cc-ed85-669c80612d22"
      },
      "execution_count": 63,
      "outputs": [
        {
          "output_type": "execute_result",
          "data": {
            "text/plain": [
              "Variable Name          child_id  child_date            child_age  \\\n",
              "Variable Label  Unique child ID   ELOM date  Child age in months   \n",
              "Answer Label         Open ended  Open ended           Open ended   \n",
              "\n",
              "Variable Name   child_enrolment_date  child_months_enrolment  \\\n",
              "Variable Label  Date enrolled in ELP  Months enrolled at ELP   \n",
              "Answer Label              Open ended              Open ended   \n",
              "\n",
              "Variable Name                                                          child_grant  \\\n",
              "Variable Label  Does the childs primary caretaker receive the Child Support Grant?   \n",
              "Answer Label                                                                   NaN   \n",
              "\n",
              "Variable Name                                   child_years_in_programme  \\\n",
              "Variable Label  For how many years has this child been in the programme?   \n",
              "Answer Label                                                         NaN   \n",
              "\n",
              "Variable Name         child_height  \\\n",
              "Variable Label  Child height in cm   \n",
              "Answer Label            Open ended   \n",
              "\n",
              "Variable Name                                                            child_observe_attentive  \\\n",
              "Variable Label  Did the child pay attention to the instructions and demonstrations throughout...   \n",
              "Answer Label                                                                                 NaN   \n",
              "\n",
              "Variable Name                                                         child_observe_concentrated  \\\n",
              "Variable Label  Did the child stay concentrated and on task during the activities and was not...   \n",
              "Answer Label                                                                                 NaN   \n",
              "\n",
              "Variable Name   ...  \\\n",
              "Variable Label  ...   \n",
              "Answer Label    ...   \n",
              "\n",
              "Variable Name                                                 child_attendance  \\\n",
              "Variable Label  How many days per week does the child attend the ECD programme   \n",
              "Answer Label                                                               NaN   \n",
              "\n",
              "Variable Name          child_languages     child_age_group  \\\n",
              "Variable Label  Child home language(s)  Age group category   \n",
              "Answer Label                       NaN                 NaN   \n",
              "\n",
              "Variable Name        pri_children_4_6_years  \\\n",
              "Variable Label  Children aged 4-6 years old   \n",
              "Answer Label                     Open ended   \n",
              "\n",
              "Variable Name                                           obs_toilets_children  \\\n",
              "Variable Label  Are there separate toilet facilities for staff and learners?   \n",
              "Answer Label                                                             NaN   \n",
              "\n",
              "Variable Name                                      count_children_present  \\\n",
              "Variable Label  How many children are present at the ECD Programme today?   \n",
              "Answer Label                                                   Open ended   \n",
              "\n",
              "Variable Name                                         count_children_attendance  \\\n",
              "Variable Label  How many children usually attend the ECD Programme, on average?   \n",
              "Answer Label                                                         Open ended   \n",
              "\n",
              "Variable Name                                                                      count_children_precovid  \\\n",
              "Variable Label  How many children usually attended the ECD programme before the start of COVID on average\"   \n",
              "Answer Label                                                                                    Open ended   \n",
              "\n",
              "Variable Name                  count_toilets_children  \\\n",
              "Variable Label  How many childrens toilets are there?   \n",
              "Answer Label                               Open ended   \n",
              "\n",
              "Variable Name                                        language_child  \n",
              "Variable Label  What language does the child usually speak at home?  \n",
              "Answer Label                                             Open ended  \n",
              "\n",
              "[2 rows x 28 columns]"
            ],
            "text/html": [
              "\n",
              "  <div id=\"df-3d79bff2-e534-450a-911d-d38c17f8137d\">\n",
              "    <div class=\"colab-df-container\">\n",
              "      <div>\n",
              "<style scoped>\n",
              "    .dataframe tbody tr th:only-of-type {\n",
              "        vertical-align: middle;\n",
              "    }\n",
              "\n",
              "    .dataframe tbody tr th {\n",
              "        vertical-align: top;\n",
              "    }\n",
              "\n",
              "    .dataframe thead th {\n",
              "        text-align: right;\n",
              "    }\n",
              "</style>\n",
              "<table border=\"1\" class=\"dataframe\">\n",
              "  <thead>\n",
              "    <tr style=\"text-align: right;\">\n",
              "      <th>Variable Name</th>\n",
              "      <th>child_id</th>\n",
              "      <th>child_date</th>\n",
              "      <th>child_age</th>\n",
              "      <th>child_enrolment_date</th>\n",
              "      <th>child_months_enrolment</th>\n",
              "      <th>child_grant</th>\n",
              "      <th>child_years_in_programme</th>\n",
              "      <th>child_height</th>\n",
              "      <th>child_observe_attentive</th>\n",
              "      <th>child_observe_concentrated</th>\n",
              "      <th>...</th>\n",
              "      <th>child_attendance</th>\n",
              "      <th>child_languages</th>\n",
              "      <th>child_age_group</th>\n",
              "      <th>pri_children_4_6_years</th>\n",
              "      <th>obs_toilets_children</th>\n",
              "      <th>count_children_present</th>\n",
              "      <th>count_children_attendance</th>\n",
              "      <th>count_children_precovid</th>\n",
              "      <th>count_toilets_children</th>\n",
              "      <th>language_child</th>\n",
              "    </tr>\n",
              "  </thead>\n",
              "  <tbody>\n",
              "    <tr>\n",
              "      <th>Variable Label</th>\n",
              "      <td>Unique child ID</td>\n",
              "      <td>ELOM date</td>\n",
              "      <td>Child age in months</td>\n",
              "      <td>Date enrolled in ELP</td>\n",
              "      <td>Months enrolled at ELP</td>\n",
              "      <td>Does the childs primary caretaker receive the Child Support Grant?</td>\n",
              "      <td>For how many years has this child been in the programme?</td>\n",
              "      <td>Child height in cm</td>\n",
              "      <td>Did the child pay attention to the instructions and demonstrations throughout...</td>\n",
              "      <td>Did the child stay concentrated and on task during the activities and was not...</td>\n",
              "      <td>...</td>\n",
              "      <td>How many days per week does the child attend the ECD programme</td>\n",
              "      <td>Child home language(s)</td>\n",
              "      <td>Age group category</td>\n",
              "      <td>Children aged 4-6 years old</td>\n",
              "      <td>Are there separate toilet facilities for staff and learners?</td>\n",
              "      <td>How many children are present at the ECD Programme today?</td>\n",
              "      <td>How many children usually attend the ECD Programme, on average?</td>\n",
              "      <td>How many children usually attended the ECD programme before the start of COVID on average\"</td>\n",
              "      <td>How many childrens toilets are there?</td>\n",
              "      <td>What language does the child usually speak at home?</td>\n",
              "    </tr>\n",
              "    <tr>\n",
              "      <th>Answer Label</th>\n",
              "      <td>Open ended</td>\n",
              "      <td>Open ended</td>\n",
              "      <td>Open ended</td>\n",
              "      <td>Open ended</td>\n",
              "      <td>Open ended</td>\n",
              "      <td>NaN</td>\n",
              "      <td>NaN</td>\n",
              "      <td>Open ended</td>\n",
              "      <td>NaN</td>\n",
              "      <td>NaN</td>\n",
              "      <td>...</td>\n",
              "      <td>NaN</td>\n",
              "      <td>NaN</td>\n",
              "      <td>NaN</td>\n",
              "      <td>Open ended</td>\n",
              "      <td>NaN</td>\n",
              "      <td>Open ended</td>\n",
              "      <td>Open ended</td>\n",
              "      <td>Open ended</td>\n",
              "      <td>Open ended</td>\n",
              "      <td>Open ended</td>\n",
              "    </tr>\n",
              "  </tbody>\n",
              "</table>\n",
              "<p>2 rows × 28 columns</p>\n",
              "</div>\n",
              "      <button class=\"colab-df-convert\" onclick=\"convertToInteractive('df-3d79bff2-e534-450a-911d-d38c17f8137d')\"\n",
              "              title=\"Convert this dataframe to an interactive table.\"\n",
              "              style=\"display:none;\">\n",
              "        \n",
              "  <svg xmlns=\"http://www.w3.org/2000/svg\" height=\"24px\"viewBox=\"0 0 24 24\"\n",
              "       width=\"24px\">\n",
              "    <path d=\"M0 0h24v24H0V0z\" fill=\"none\"/>\n",
              "    <path d=\"M18.56 5.44l.94 2.06.94-2.06 2.06-.94-2.06-.94-.94-2.06-.94 2.06-2.06.94zm-11 1L8.5 8.5l.94-2.06 2.06-.94-2.06-.94L8.5 2.5l-.94 2.06-2.06.94zm10 10l.94 2.06.94-2.06 2.06-.94-2.06-.94-.94-2.06-.94 2.06-2.06.94z\"/><path d=\"M17.41 7.96l-1.37-1.37c-.4-.4-.92-.59-1.43-.59-.52 0-1.04.2-1.43.59L10.3 9.45l-7.72 7.72c-.78.78-.78 2.05 0 2.83L4 21.41c.39.39.9.59 1.41.59.51 0 1.02-.2 1.41-.59l7.78-7.78 2.81-2.81c.8-.78.8-2.07 0-2.86zM5.41 20L4 18.59l7.72-7.72 1.47 1.35L5.41 20z\"/>\n",
              "  </svg>\n",
              "      </button>\n",
              "      \n",
              "  <style>\n",
              "    .colab-df-container {\n",
              "      display:flex;\n",
              "      flex-wrap:wrap;\n",
              "      gap: 12px;\n",
              "    }\n",
              "\n",
              "    .colab-df-convert {\n",
              "      background-color: #E8F0FE;\n",
              "      border: none;\n",
              "      border-radius: 50%;\n",
              "      cursor: pointer;\n",
              "      display: none;\n",
              "      fill: #1967D2;\n",
              "      height: 32px;\n",
              "      padding: 0 0 0 0;\n",
              "      width: 32px;\n",
              "    }\n",
              "\n",
              "    .colab-df-convert:hover {\n",
              "      background-color: #E2EBFA;\n",
              "      box-shadow: 0px 1px 2px rgba(60, 64, 67, 0.3), 0px 1px 3px 1px rgba(60, 64, 67, 0.15);\n",
              "      fill: #174EA6;\n",
              "    }\n",
              "\n",
              "    [theme=dark] .colab-df-convert {\n",
              "      background-color: #3B4455;\n",
              "      fill: #D2E3FC;\n",
              "    }\n",
              "\n",
              "    [theme=dark] .colab-df-convert:hover {\n",
              "      background-color: #434B5C;\n",
              "      box-shadow: 0px 1px 3px 1px rgba(0, 0, 0, 0.15);\n",
              "      filter: drop-shadow(0px 1px 2px rgba(0, 0, 0, 0.3));\n",
              "      fill: #FFFFFF;\n",
              "    }\n",
              "  </style>\n",
              "\n",
              "      <script>\n",
              "        const buttonEl =\n",
              "          document.querySelector('#df-3d79bff2-e534-450a-911d-d38c17f8137d button.colab-df-convert');\n",
              "        buttonEl.style.display =\n",
              "          google.colab.kernel.accessAllowed ? 'block' : 'none';\n",
              "\n",
              "        async function convertToInteractive(key) {\n",
              "          const element = document.querySelector('#df-3d79bff2-e534-450a-911d-d38c17f8137d');\n",
              "          const dataTable =\n",
              "            await google.colab.kernel.invokeFunction('convertToInteractive',\n",
              "                                                     [key], {});\n",
              "          if (!dataTable) return;\n",
              "\n",
              "          const docLinkHtml = 'Like what you see? Visit the ' +\n",
              "            '<a target=\"_blank\" href=https://colab.research.google.com/notebooks/data_table.ipynb>data table notebook</a>'\n",
              "            + ' to learn more about interactive tables.';\n",
              "          element.innerHTML = '';\n",
              "          dataTable['output_type'] = 'display_data';\n",
              "          await google.colab.output.renderOutput(dataTable, element);\n",
              "          const docLink = document.createElement('div');\n",
              "          docLink.innerHTML = docLinkHtml;\n",
              "          element.appendChild(docLink);\n",
              "        }\n",
              "      </script>\n",
              "    </div>\n",
              "  </div>\n",
              "  "
            ]
          },
          "metadata": {},
          "execution_count": 63
        }
      ]
    },
    {
      "cell_type": "markdown",
      "source": [
        "###child grant"
      ],
      "metadata": {
        "id": "XHwCHPsQEL0_"
      }
    },
    {
      "cell_type": "code",
      "source": [
        "Train['child_grant'].isnull().sum()/len(Train)"
      ],
      "metadata": {
        "colab": {
          "base_uri": "https://localhost:8080/"
        },
        "id": "QOQtgVuTEKjb",
        "outputId": "10b4d9ae-4e54-453e-aafd-10bc4293dcdb"
      },
      "execution_count": 24,
      "outputs": [
        {
          "output_type": "execute_result",
          "data": {
            "text/plain": [
              "0.36493884682585903"
            ]
          },
          "metadata": {},
          "execution_count": 24
        }
      ]
    },
    {
      "cell_type": "code",
      "source": [
        "barchart(Train['child_grant'],Train['target'])"
      ],
      "metadata": {
        "colab": {
          "base_uri": "https://localhost:8080/",
          "height": 487
        },
        "id": "4VXbwCVREgGG",
        "outputId": "263f760f-5411-481e-e5e1-6c5f80325ddd"
      },
      "execution_count": 25,
      "outputs": [
        {
          "output_type": "display_data",
          "data": {
            "text/plain": [
              "<Figure size 1000x500 with 1 Axes>"
            ],
            "image/png": "[encoded data removed]"
          },
          "metadata": {}
        }
      ]
    },
    {
      "cell_type": "code",
      "source": [
        "stack_barchart(Train['child_grant'],Train['target'],hue=Train['target_cat'])"
      ],
      "metadata": {
        "colab": {
          "base_uri": "https://localhost:8080/",
          "height": 487
        },
        "id": "nKZJE_yqSAny",
        "outputId": "2b2659e4-4640-452b-e6a0-ba25e93e7912"
      },
      "execution_count": 26,
      "outputs": [
        {
          "output_type": "display_data",
          "data": {
            "text/plain": [
              "<Figure size 1000x500 with 1 Axes>"
            ],
            "image/png": "[encoded data removed]"
          },
          "metadata": {}
        }
      ]
    },
    {
      "cell_type": "code",
      "source": [
        "#Children whose primary caretaker refused the Child Support Grant have no child At Risk\n",
        "#Children whose primary caretaker refused the Child Support Grant have more children achieving the standard"
      ],
      "metadata": {
        "id": "XrK2AVfBS8gr"
      },
      "execution_count": 28,
      "outputs": []
    },
    {
      "cell_type": "code",
      "source": [
        "Train['child_grant'].value_counts()"
      ],
      "metadata": {
        "colab": {
          "base_uri": "https://localhost:8080/"
        },
        "id": "z8cnIcf7TpiD",
        "outputId": "80b996ee-563d-4dd7-d27b-328e9d165035"
      },
      "execution_count": 29,
      "outputs": [
        {
          "output_type": "execute_result",
          "data": {
            "text/plain": [
              "Yes           4515\n",
              "No             764\n",
              "Don't know     168\n",
              "Refuse           5\n",
              "Name: child_grant, dtype: int64"
            ]
          },
          "metadata": {},
          "execution_count": 29
        }
      ]
    },
    {
      "cell_type": "code",
      "source": [
        "Train[Train['child_grant']=='Yes']['target_cat'].value_counts()/len(Train[Train['child_grant']=='Yes'])"
      ],
      "metadata": {
        "colab": {
          "base_uri": "https://localhost:8080/"
        },
        "id": "EjbMSdriVbl1",
        "outputId": "021f6fcd-537c-4cfa-c1f4-1f9c9bbcd40b"
      },
      "execution_count": 30,
      "outputs": [
        {
          "output_type": "execute_result",
          "data": {
            "text/plain": [
              "Achieving the Standard    0.450498\n",
              "Falling Behind            0.273090\n",
              "At Risk                   0.267331\n",
              "Name: target_cat, dtype: float64"
            ]
          },
          "metadata": {},
          "execution_count": 30
        }
      ]
    },
    {
      "cell_type": "code",
      "source": [
        "Train[Train['child_grant']=='No']['target_cat'].value_counts()/len(Train[Train['child_grant']=='No'])"
      ],
      "metadata": {
        "colab": {
          "base_uri": "https://localhost:8080/"
        },
        "id": "Gv-oqqT1Vlt4",
        "outputId": "6a75793a-f68e-4fe8-d52e-2bf6d1d9a10a"
      },
      "execution_count": 31,
      "outputs": [
        {
          "output_type": "execute_result",
          "data": {
            "text/plain": [
              "Achieving the Standard    0.608639\n",
              "At Risk                   0.205497\n",
              "Falling Behind            0.174084\n",
              "Name: target_cat, dtype: float64"
            ]
          },
          "metadata": {},
          "execution_count": 31
        }
      ]
    },
    {
      "cell_type": "code",
      "source": [
        "Train[Train['child_grant']==\"Don't know\"]['target_cat'].value_counts()/len(Train[Train['child_grant']==\"Don't know\"])"
      ],
      "metadata": {
        "colab": {
          "base_uri": "https://localhost:8080/"
        },
        "id": "zmPHQpanVtd6",
        "outputId": "8ad98f4a-7963-4993-b629-2c2077531eeb"
      },
      "execution_count": 32,
      "outputs": [
        {
          "output_type": "execute_result",
          "data": {
            "text/plain": [
              "Falling Behind            0.345238\n",
              "At Risk                   0.339286\n",
              "Achieving the Standard    0.315476\n",
              "Name: target_cat, dtype: float64"
            ]
          },
          "metadata": {},
          "execution_count": 32
        }
      ]
    },
    {
      "cell_type": "code",
      "source": [
        "\"\"\" Child Support Grant: 'No' - Majority of those who responded 'No' for the Child Support Grant are achieving the standard, \n",
        "which may indicate that they do not rely on the grant for financial assistance and are meeting the standard of living without it. \n",
        "A smaller percentage are at risk or falling behind, which could suggest that they may not require the grant due to their current financial situation.\n",
        "\n",
        "Child Support Grant: 'Yes' - Majority of those who responded 'Yes' for the Child Support Grant are achieving the standard, \n",
        "which may indicate that they rely on the grant for financial assistance and are able to meet the standard of living with its support. \n",
        "A significant percentage are falling behind, which could suggest that the grant may not be sufficient to lift them out of poverty entirely.\n",
        "\n",
        "Child Support Grant: 'Don't Know' - Those who responded 'Don't Know' for the Child Support Grant are relatively smaller in number compared to 'No' and 'Yes'. \n",
        "Majority of them are falling behind, which could suggest that they may not have adequate knowledge or information about the grant, \n",
        "its eligibility criteria, or how to apply for it, resulting in uncertainty about their eligibility status.\"\"\"\n",
        "pass"
      ],
      "metadata": {
        "id": "79WKKUIMJ71C"
      },
      "execution_count": null,
      "outputs": []
    },
    {
      "cell_type": "markdown",
      "source": [
        "###child age"
      ],
      "metadata": {
        "id": "Mjkxsdtqz_Gc"
      }
    },
    {
      "cell_type": "code",
      "source": [
        "Train['child_age'].isnull().sum()/len(Train)"
      ],
      "metadata": {
        "colab": {
          "base_uri": "https://localhost:8080/"
        },
        "id": "wLUkmEduw_g0",
        "outputId": "44290bbe-6606-41d2-abcd-8ed1c8e0f630"
      },
      "execution_count": 64,
      "outputs": [
        {
          "output_type": "execute_result",
          "data": {
            "text/plain": [
              "0.0"
            ]
          },
          "metadata": {},
          "execution_count": 64
        }
      ]
    },
    {
      "cell_type": "code",
      "source": [
        "Train[['child_age','target']]"
      ],
      "metadata": {
        "colab": {
          "base_uri": "https://localhost:8080/",
          "height": 424
        },
        "id": "IEf0VUipoLge",
        "outputId": "a59bbd4b-72e4-4d31-907d-1d0785962729"
      },
      "execution_count": 65,
      "outputs": [
        {
          "output_type": "execute_result",
          "data": {
            "text/plain": [
              "      child_age     target\n",
              "0     59.000000  51.500000\n",
              "1     60.163933  55.869999\n",
              "2     69.000000  47.520000\n",
              "3     53.000000  58.599998\n",
              "4     57.000000  76.599998\n",
              "...         ...        ...\n",
              "8580  55.000000  23.469999\n",
              "8581  55.000000  45.639999\n",
              "8582  56.000000  53.290001\n",
              "8583  57.000000  56.330002\n",
              "8584  50.000000  49.529999\n",
              "\n",
              "[8585 rows x 2 columns]"
            ],
            "text/html": [
              "\n",
              "  <div id=\"df-537cb1f9-3c3d-4301-95fc-4a6ea7351323\">\n",
              "    <div class=\"colab-df-container\">\n",
              "      <div>\n",
              "<style scoped>\n",
              "    .dataframe tbody tr th:only-of-type {\n",
              "        vertical-align: middle;\n",
              "    }\n",
              "\n",
              "    .dataframe tbody tr th {\n",
              "        vertical-align: top;\n",
              "    }\n",
              "\n",
              "    .dataframe thead th {\n",
              "        text-align: right;\n",
              "    }\n",
              "</style>\n",
              "<table border=\"1\" class=\"dataframe\">\n",
              "  <thead>\n",
              "    <tr style=\"text-align: right;\">\n",
              "      <th></th>\n",
              "      <th>child_age</th>\n",
              "      <th>target</th>\n",
              "    </tr>\n",
              "  </thead>\n",
              "  <tbody>\n",
              "    <tr>\n",
              "      <th>0</th>\n",
              "      <td>59.000000</td>\n",
              "      <td>51.500000</td>\n",
              "    </tr>\n",
              "    <tr>\n",
              "      <th>1</th>\n",
              "      <td>60.163933</td>\n",
              "      <td>55.869999</td>\n",
              "    </tr>\n",
              "    <tr>\n",
              "      <th>2</th>\n",
              "      <td>69.000000</td>\n",
              "      <td>47.520000</td>\n",
              "    </tr>\n",
              "    <tr>\n",
              "      <th>3</th>\n",
              "      <td>53.000000</td>\n",
              "      <td>58.599998</td>\n",
              "    </tr>\n",
              "    <tr>\n",
              "      <th>4</th>\n",
              "      <td>57.000000</td>\n",
              "      <td>76.599998</td>\n",
              "    </tr>\n",
              "    <tr>\n",
              "      <th>...</th>\n",
              "      <td>...</td>\n",
              "      <td>...</td>\n",
              "    </tr>\n",
              "    <tr>\n",
              "      <th>8580</th>\n",
              "      <td>55.000000</td>\n",
              "      <td>23.469999</td>\n",
              "    </tr>\n",
              "    <tr>\n",
              "      <th>8581</th>\n",
              "      <td>55.000000</td>\n",
              "      <td>45.639999</td>\n",
              "    </tr>\n",
              "    <tr>\n",
              "      <th>8582</th>\n",
              "      <td>56.000000</td>\n",
              "      <td>53.290001</td>\n",
              "    </tr>\n",
              "    <tr>\n",
              "      <th>8583</th>\n",
              "      <td>57.000000</td>\n",
              "      <td>56.330002</td>\n",
              "    </tr>\n",
              "    <tr>\n",
              "      <th>8584</th>\n",
              "      <td>50.000000</td>\n",
              "      <td>49.529999</td>\n",
              "    </tr>\n",
              "  </tbody>\n",
              "</table>\n",
              "<p>8585 rows × 2 columns</p>\n",
              "</div>\n",
              "      <button class=\"colab-df-convert\" onclick=\"convertToInteractive('df-537cb1f9-3c3d-4301-95fc-4a6ea7351323')\"\n",
              "              title=\"Convert this dataframe to an interactive table.\"\n",
              "              style=\"display:none;\">\n",
              "        \n",
              "  <svg xmlns=\"http://www.w3.org/2000/svg\" height=\"24px\"viewBox=\"0 0 24 24\"\n",
              "       width=\"24px\">\n",
              "    <path d=\"M0 0h24v24H0V0z\" fill=\"none\"/>\n",
              "    <path d=\"M18.56 5.44l.94 2.06.94-2.06 2.06-.94-2.06-.94-.94-2.06-.94 2.06-2.06.94zm-11 1L8.5 8.5l.94-2.06 2.06-.94-2.06-.94L8.5 2.5l-.94 2.06-2.06.94zm10 10l.94 2.06.94-2.06 2.06-.94-2.06-.94-.94-2.06-.94 2.06-2.06.94z\"/><path d=\"M17.41 7.96l-1.37-1.37c-.4-.4-.92-.59-1.43-.59-.52 0-1.04.2-1.43.59L10.3 9.45l-7.72 7.72c-.78.78-.78 2.05 0 2.83L4 21.41c.39.39.9.59 1.41.59.51 0 1.02-.2 1.41-.59l7.78-7.78 2.81-2.81c.8-.78.8-2.07 0-2.86zM5.41 20L4 18.59l7.72-7.72 1.47 1.35L5.41 20z\"/>\n",
              "  </svg>\n",
              "      </button>\n",
              "      \n",
              "  <style>\n",
              "    .colab-df-container {\n",
              "      display:flex;\n",
              "      flex-wrap:wrap;\n",
              "      gap: 12px;\n",
              "    }\n",
              "\n",
              "    .colab-df-convert {\n",
              "      background-color: #E8F0FE;\n",
              "      border: none;\n",
              "      border-radius: 50%;\n",
              "      cursor: pointer;\n",
              "      display: none;\n",
              "      fill: #1967D2;\n",
              "      height: 32px;\n",
              "      padding: 0 0 0 0;\n",
              "      width: 32px;\n",
              "    }\n",
              "\n",
              "    .colab-df-convert:hover {\n",
              "      background-color: #E2EBFA;\n",
              "      box-shadow: 0px 1px 2px rgba(60, 64, 67, 0.3), 0px 1px 3px 1px rgba(60, 64, 67, 0.15);\n",
              "      fill: #174EA6;\n",
              "    }\n",
              "\n",
              "    [theme=dark] .colab-df-convert {\n",
              "      background-color: #3B4455;\n",
              "      fill: #D2E3FC;\n",
              "    }\n",
              "\n",
              "    [theme=dark] .colab-df-convert:hover {\n",
              "      background-color: #434B5C;\n",
              "      box-shadow: 0px 1px 3px 1px rgba(0, 0, 0, 0.15);\n",
              "      filter: drop-shadow(0px 1px 2px rgba(0, 0, 0, 0.3));\n",
              "      fill: #FFFFFF;\n",
              "    }\n",
              "  </style>\n",
              "\n",
              "      <script>\n",
              "        const buttonEl =\n",
              "          document.querySelector('#df-537cb1f9-3c3d-4301-95fc-4a6ea7351323 button.colab-df-convert');\n",
              "        buttonEl.style.display =\n",
              "          google.colab.kernel.accessAllowed ? 'block' : 'none';\n",
              "\n",
              "        async function convertToInteractive(key) {\n",
              "          const element = document.querySelector('#df-537cb1f9-3c3d-4301-95fc-4a6ea7351323');\n",
              "          const dataTable =\n",
              "            await google.colab.kernel.invokeFunction('convertToInteractive',\n",
              "                                                     [key], {});\n",
              "          if (!dataTable) return;\n",
              "\n",
              "          const docLinkHtml = 'Like what you see? Visit the ' +\n",
              "            '<a target=\"_blank\" href=https://colab.research.google.com/notebooks/data_table.ipynb>data table notebook</a>'\n",
              "            + ' to learn more about interactive tables.';\n",
              "          element.innerHTML = '';\n",
              "          dataTable['output_type'] = 'display_data';\n",
              "          await google.colab.output.renderOutput(dataTable, element);\n",
              "          const docLink = document.createElement('div');\n",
              "          docLink.innerHTML = docLinkHtml;\n",
              "          element.appendChild(docLink);\n",
              "        }\n",
              "      </script>\n",
              "    </div>\n",
              "  </div>\n",
              "  "
            ]
          },
          "metadata": {},
          "execution_count": 65
        }
      ]
    },
    {
      "cell_type": "code",
      "source": [
        "scatterplot(Train['child_age'],Train['target'])\n",
        "boxplot(Train[['child_age','target']])\n",
        "\n",
        "#Child age doesn't seem to be correlated to the target, maybe not alone"
      ],
      "metadata": {
        "colab": {
          "base_uri": "https://localhost:8080/",
          "height": 907
        },
        "id": "ODtMKUsesyiR",
        "outputId": "58dd5bd6-bb68-4b99-b41c-d2db94ff7f78"
      },
      "execution_count": 66,
      "outputs": [
        {
          "output_type": "display_data",
          "data": {
            "text/plain": [
              "<Figure size 640x480 with 1 Axes>"
            ],
            "image/png": "[encoded data removed]"
          },
          "metadata": {}
        },
        {
          "output_type": "display_data",
          "data": {
            "text/plain": [
              "<Figure size 640x480 with 1 Axes>"
            ],
            "image/png": "[encoded data removed]"
          },
          "metadata": {}
        }
      ]
    },
    {
      "cell_type": "code",
      "source": [
        "violinplot(x=Train['child_grant'],y=Train['child_age'],hue=Train['target_cat'])"
      ],
      "metadata": {
        "colab": {
          "base_uri": "https://localhost:8080/",
          "height": 487
        },
        "id": "ory4gSU-Y_cY",
        "outputId": "73fac42c-263f-47dc-a065-5e16603b6f1a"
      },
      "execution_count": 67,
      "outputs": [
        {
          "output_type": "display_data",
          "data": {
            "text/plain": [
              "<Figure size 1000x500 with 1 Axes>"
            ],
            "image/png": "[encoded data removed]"
          },
          "metadata": {}
        }
      ]
    },
    {
      "cell_type": "code",
      "source": [
        "Data['age_bin'] = pd.qcut(Data['child_age'],5,labels=False)\n",
        "Train['age_bin'] = pd.qcut(Train['child_age'],5,labels=False)"
      ],
      "metadata": {
        "id": "dLVZLXmv1_bT"
      },
      "execution_count": 69,
      "outputs": []
    },
    {
      "cell_type": "code",
      "source": [
        "barchart(Train['age_bin'],Train['target'])"
      ],
      "metadata": {
        "colab": {
          "base_uri": "https://localhost:8080/",
          "height": 487
        },
        "id": "R_txy9R06Qu3",
        "outputId": "1eb32291-269e-4ec9-afd6-f0826b324853"
      },
      "execution_count": 70,
      "outputs": [
        {
          "output_type": "display_data",
          "data": {
            "text/plain": [
              "<Figure size 1000x500 with 1 Axes>"
            ],
            "image/png": "[encoded data removed]"
          },
          "metadata": {}
        }
      ]
    },
    {
      "cell_type": "code",
      "source": [
        "stack_barchart(Train['age_bin'],Train['target'],hue=Train['target_cat'])"
      ],
      "metadata": {
        "colab": {
          "base_uri": "https://localhost:8080/",
          "height": 487
        },
        "id": "xTycZFHn6lin",
        "outputId": "3ca4de00-39a4-480a-b81b-f7d0a260101e"
      },
      "execution_count": 71,
      "outputs": [
        {
          "output_type": "display_data",
          "data": {
            "text/plain": [
              "<Figure size 1000x500 with 1 Axes>"
            ],
            "image/png": "[encoded data removed]"
          },
          "metadata": {}
        }
      ]
    },
    {
      "cell_type": "code",
      "source": [
        "Age0 = Train[Train['age_bin']==0]\n",
        "Age1 = Train[Train['age_bin']==1]\n",
        "Age2 = Train[Train['age_bin']==2]\n",
        "Age3 = Train[Train['age_bin']==3]\n",
        "Age4 = Train[Train['age_bin']==4]\n",
        "\n",
        "print(f\"\"\" Age0 \\n{Age0['target_cat'].value_counts()/len(Age0)}\\n Age1 \\n{Age1['target_cat'].value_counts()/len(Age1)}\n",
        "      \\n Age2 \\n{Age2['target_cat'].value_counts()/len(Age2)}\\n Age3 \\n{Age3['target_cat'].value_counts()/len(Age3)}\n",
        "      \\n Age4 \\n{Age4['target_cat'].value_counts()/len(Age4)}\"\"\")"
      ],
      "metadata": {
        "colab": {
          "base_uri": "https://localhost:8080/"
        },
        "id": "5UlCBUTcZ-45",
        "outputId": "c9dcc889-a535-4d20-cd2a-0cf2955c418d"
      },
      "execution_count": 72,
      "outputs": [
        {
          "output_type": "stream",
          "name": "stdout",
          "text": [
            " Age0 \n",
            "At Risk                   0.381999\n",
            "Achieving the Standard    0.329147\n",
            "Falling Behind            0.284668\n",
            "Name: target_cat, dtype: float64\n",
            " Age1 \n",
            "Achieving the Standard    0.434162\n",
            "Falling Behind            0.288736\n",
            "At Risk                   0.277102\n",
            "Name: target_cat, dtype: float64\n",
            "      \n",
            " Age2 \n",
            "Achieving the Standard    0.563927\n",
            "Falling Behind            0.246005\n",
            "At Risk                   0.189498\n",
            "Name: target_cat, dtype: float64\n",
            " Age3 \n",
            "Achieving the Standard    0.433460\n",
            "Falling Behind            0.258555\n",
            "At Risk                   0.201521\n",
            "Name: target_cat, dtype: float64\n",
            "      \n",
            " Age4 \n",
            "Achieving the Standard    0.610723\n",
            "Falling Behind            0.219697\n",
            "At Risk                   0.150932\n",
            "Name: target_cat, dtype: float64\n"
          ]
        }
      ]
    },
    {
      "cell_type": "code",
      "source": [
        "\"\"\"These insights provide information on the distribution of target categories (i.e., \"Achieving the Standard\", \"Falling Behind\", \"At Risk\") among different age groups (i.e., age bins). \n",
        "It suggests that the proportion of children in each target category varies across different age groups, with the proportion of children \n",
        "categorized as \"Achieving the Standard\" generally increasing with age, while the proportion of children categorized as \"At Risk\" \n",
        "generally decreasing with age.\"\"\"\n",
        "pass"
      ],
      "metadata": {
        "id": "l3y0IyAxBcSz"
      },
      "execution_count": 48,
      "outputs": []
    },
    {
      "cell_type": "markdown",
      "source": [
        "###child enrollment"
      ],
      "metadata": {
        "id": "MPtyzsTR0C_5"
      }
    },
    {
      "cell_type": "code",
      "source": [
        "Train.filter(like='enrolment')"
      ],
      "metadata": {
        "colab": {
          "base_uri": "https://localhost:8080/",
          "height": 424
        },
        "id": "2Dghdgw31mB-",
        "outputId": "c6456a54-388b-40de-cb5b-50f401af7160"
      },
      "execution_count": 73,
      "outputs": [
        {
          "output_type": "execute_result",
          "data": {
            "text/plain": [
              "     child_enrolment_date  child_months_enrolment\n",
              "0                     NaN                     NaN\n",
              "1                     NaN                     NaN\n",
              "2                     NaN                     NaN\n",
              "3              2020-01-15                    20.0\n",
              "4              2021-10-13                     0.0\n",
              "...                   ...                     ...\n",
              "8580           2021-01-12                     9.0\n",
              "8581           2019-01-15                    32.0\n",
              "8582           2018-01-07                    45.0\n",
              "8583           2021-01-15                     9.0\n",
              "8584                  NaN                     NaN\n",
              "\n",
              "[8585 rows x 2 columns]"
            ],
            "text/html": [
              "\n",
              "  <div id=\"df-3fdc4a9d-bac6-46ef-9d43-3f7c85f998c0\">\n",
              "    <div class=\"colab-df-container\">\n",
              "      <div>\n",
              "<style scoped>\n",
              "    .dataframe tbody tr th:only-of-type {\n",
              "        vertical-align: middle;\n",
              "    }\n",
              "\n",
              "    .dataframe tbody tr th {\n",
              "        vertical-align: top;\n",
              "    }\n",
              "\n",
              "    .dataframe thead th {\n",
              "        text-align: right;\n",
              "    }\n",
              "</style>\n",
              "<table border=\"1\" class=\"dataframe\">\n",
              "  <thead>\n",
              "    <tr style=\"text-align: right;\">\n",
              "      <th></th>\n",
              "      <th>child_enrolment_date</th>\n",
              "      <th>child_months_enrolment</th>\n",
              "    </tr>\n",
              "  </thead>\n",
              "  <tbody>\n",
              "    <tr>\n",
              "      <th>0</th>\n",
              "      <td>NaN</td>\n",
              "      <td>NaN</td>\n",
              "    </tr>\n",
              "    <tr>\n",
              "      <th>1</th>\n",
              "      <td>NaN</td>\n",
              "      <td>NaN</td>\n",
              "    </tr>\n",
              "    <tr>\n",
              "      <th>2</th>\n",
              "      <td>NaN</td>\n",
              "      <td>NaN</td>\n",
              "    </tr>\n",
              "    <tr>\n",
              "      <th>3</th>\n",
              "      <td>2020-01-15</td>\n",
              "      <td>20.0</td>\n",
              "    </tr>\n",
              "    <tr>\n",
              "      <th>4</th>\n",
              "      <td>2021-10-13</td>\n",
              "      <td>0.0</td>\n",
              "    </tr>\n",
              "    <tr>\n",
              "      <th>...</th>\n",
              "      <td>...</td>\n",
              "      <td>...</td>\n",
              "    </tr>\n",
              "    <tr>\n",
              "      <th>8580</th>\n",
              "      <td>2021-01-12</td>\n",
              "      <td>9.0</td>\n",
              "    </tr>\n",
              "    <tr>\n",
              "      <th>8581</th>\n",
              "      <td>2019-01-15</td>\n",
              "      <td>32.0</td>\n",
              "    </tr>\n",
              "    <tr>\n",
              "      <th>8582</th>\n",
              "      <td>2018-01-07</td>\n",
              "      <td>45.0</td>\n",
              "    </tr>\n",
              "    <tr>\n",
              "      <th>8583</th>\n",
              "      <td>2021-01-15</td>\n",
              "      <td>9.0</td>\n",
              "    </tr>\n",
              "    <tr>\n",
              "      <th>8584</th>\n",
              "      <td>NaN</td>\n",
              "      <td>NaN</td>\n",
              "    </tr>\n",
              "  </tbody>\n",
              "</table>\n",
              "<p>8585 rows × 2 columns</p>\n",
              "</div>\n",
              "      <button class=\"colab-df-convert\" onclick=\"convertToInteractive('df-3fdc4a9d-bac6-46ef-9d43-3f7c85f998c0')\"\n",
              "              title=\"Convert this dataframe to an interactive table.\"\n",
              "              style=\"display:none;\">\n",
              "        \n",
              "  <svg xmlns=\"http://www.w3.org/2000/svg\" height=\"24px\"viewBox=\"0 0 24 24\"\n",
              "       width=\"24px\">\n",
              "    <path d=\"M0 0h24v24H0V0z\" fill=\"none\"/>\n",
              "    <path d=\"M18.56 5.44l.94 2.06.94-2.06 2.06-.94-2.06-.94-.94-2.06-.94 2.06-2.06.94zm-11 1L8.5 8.5l.94-2.06 2.06-.94-2.06-.94L8.5 2.5l-.94 2.06-2.06.94zm10 10l.94 2.06.94-2.06 2.06-.94-2.06-.94-.94-2.06-.94 2.06-2.06.94z\"/><path d=\"M17.41 7.96l-1.37-1.37c-.4-.4-.92-.59-1.43-.59-.52 0-1.04.2-1.43.59L10.3 9.45l-7.72 7.72c-.78.78-.78 2.05 0 2.83L4 21.41c.39.39.9.59 1.41.59.51 0 1.02-.2 1.41-.59l7.78-7.78 2.81-2.81c.8-.78.8-2.07 0-2.86zM5.41 20L4 18.59l7.72-7.72 1.47 1.35L5.41 20z\"/>\n",
              "  </svg>\n",
              "      </button>\n",
              "      \n",
              "  <style>\n",
              "    .colab-df-container {\n",
              "      display:flex;\n",
              "      flex-wrap:wrap;\n",
              "      gap: 12px;\n",
              "    }\n",
              "\n",
              "    .colab-df-convert {\n",
              "      background-color: #E8F0FE;\n",
              "      border: none;\n",
              "      border-radius: 50%;\n",
              "      cursor: pointer;\n",
              "      display: none;\n",
              "      fill: #1967D2;\n",
              "      height: 32px;\n",
              "      padding: 0 0 0 0;\n",
              "      width: 32px;\n",
              "    }\n",
              "\n",
              "    .colab-df-convert:hover {\n",
              "      background-color: #E2EBFA;\n",
              "      box-shadow: 0px 1px 2px rgba(60, 64, 67, 0.3), 0px 1px 3px 1px rgba(60, 64, 67, 0.15);\n",
              "      fill: #174EA6;\n",
              "    }\n",
              "\n",
              "    [theme=dark] .colab-df-convert {\n",
              "      background-color: #3B4455;\n",
              "      fill: #D2E3FC;\n",
              "    }\n",
              "\n",
              "    [theme=dark] .colab-df-convert:hover {\n",
              "      background-color: #434B5C;\n",
              "      box-shadow: 0px 1px 3px 1px rgba(0, 0, 0, 0.15);\n",
              "      filter: drop-shadow(0px 1px 2px rgba(0, 0, 0, 0.3));\n",
              "      fill: #FFFFFF;\n",
              "    }\n",
              "  </style>\n",
              "\n",
              "      <script>\n",
              "        const buttonEl =\n",
              "          document.querySelector('#df-3fdc4a9d-bac6-46ef-9d43-3f7c85f998c0 button.colab-df-convert');\n",
              "        buttonEl.style.display =\n",
              "          google.colab.kernel.accessAllowed ? 'block' : 'none';\n",
              "\n",
              "        async function convertToInteractive(key) {\n",
              "          const element = document.querySelector('#df-3fdc4a9d-bac6-46ef-9d43-3f7c85f998c0');\n",
              "          const dataTable =\n",
              "            await google.colab.kernel.invokeFunction('convertToInteractive',\n",
              "                                                     [key], {});\n",
              "          if (!dataTable) return;\n",
              "\n",
              "          const docLinkHtml = 'Like what you see? Visit the ' +\n",
              "            '<a target=\"_blank\" href=https://colab.research.google.com/notebooks/data_table.ipynb>data table notebook</a>'\n",
              "            + ' to learn more about interactive tables.';\n",
              "          element.innerHTML = '';\n",
              "          dataTable['output_type'] = 'display_data';\n",
              "          await google.colab.output.renderOutput(dataTable, element);\n",
              "          const docLink = document.createElement('div');\n",
              "          docLink.innerHTML = docLinkHtml;\n",
              "          element.appendChild(docLink);\n",
              "        }\n",
              "      </script>\n",
              "    </div>\n",
              "  </div>\n",
              "  "
            ]
          },
          "metadata": {},
          "execution_count": 73
        }
      ]
    },
    {
      "cell_type": "code",
      "source": [
        "Train.filter(like='enrolment').isnull().sum()/len(Train)"
      ],
      "metadata": {
        "colab": {
          "base_uri": "https://localhost:8080/"
        },
        "id": "LFYQZDJC0WAb",
        "outputId": "ed7c4fb1-f451-49c6-9518-521b1871939f"
      },
      "execution_count": 74,
      "outputs": [
        {
          "output_type": "execute_result",
          "data": {
            "text/plain": [
              "child_enrolment_date      0.6947\n",
              "child_months_enrolment    0.6947\n",
              "dtype: float64"
            ]
          },
          "metadata": {},
          "execution_count": 74
        }
      ]
    },
    {
      "cell_type": "code",
      "source": [
        "Train.filter(like='date')\n",
        "#It seem child_enrolment_date + child_months_enrolment gives the day the child's ELOM was taken (child_date)"
      ],
      "metadata": {
        "colab": {
          "base_uri": "https://localhost:8080/",
          "height": 424
        },
        "id": "DvSRE1Sr1LQR",
        "outputId": "468d4937-6338-4b1b-80c0-f577b31602a1"
      },
      "execution_count": 75,
      "outputs": [
        {
          "output_type": "execute_result",
          "data": {
            "text/plain": [
              "      child_date child_enrolment_date    pqa_date    pra_date    pri_date  \\\n",
              "0     2022-02-03                  NaN         NaN         NaN         NaN   \n",
              "1            NaN                  NaN         NaN         NaN         NaN   \n",
              "2     2022-03-11                  NaN         NaN         NaN         NaN   \n",
              "3     2021-10-13           2020-01-15         NaN         NaN         NaN   \n",
              "4     2021-10-13           2021-10-13  2021-10-29  2021-10-29  2021-10-29   \n",
              "...          ...                  ...         ...         ...         ...   \n",
              "8580  2021-11-10           2021-01-12  2021-10-19  2021-10-19  2021-11-10   \n",
              "8581  2021-10-12           2019-01-15  2021-10-12  2021-10-12  2021-10-12   \n",
              "8582  2021-11-02           2018-01-07  2021-10-06  2021-10-06  2021-10-06   \n",
              "8583  2021-11-05           2021-01-15         NaN         NaN         NaN   \n",
              "8584  2021-09-21                  NaN         NaN         NaN         NaN   \n",
              "\n",
              "        obs_date  \n",
              "0            NaN  \n",
              "1            NaN  \n",
              "2            NaN  \n",
              "3            NaN  \n",
              "4     2021-10-29  \n",
              "...          ...  \n",
              "8580  2021-10-19  \n",
              "8581  2021-10-12  \n",
              "8582  2021-10-06  \n",
              "8583         NaN  \n",
              "8584         NaN  \n",
              "\n",
              "[8585 rows x 6 columns]"
            ],
            "text/html": [
              "\n",
              "  <div id=\"df-b1bedb6e-f3da-4963-8ce0-9853366eece5\">\n",
              "    <div class=\"colab-df-container\">\n",
              "      <div>\n",
              "<style scoped>\n",
              "    .dataframe tbody tr th:only-of-type {\n",
              "        vertical-align: middle;\n",
              "    }\n",
              "\n",
              "    .dataframe tbody tr th {\n",
              "        vertical-align: top;\n",
              "    }\n",
              "\n",
              "    .dataframe thead th {\n",
              "        text-align: right;\n",
              "    }\n",
              "</style>\n",
              "<table border=\"1\" class=\"dataframe\">\n",
              "  <thead>\n",
              "    <tr style=\"text-align: right;\">\n",
              "      <th></th>\n",
              "      <th>child_date</th>\n",
              "      <th>child_enrolment_date</th>\n",
              "      <th>pqa_date</th>\n",
              "      <th>pra_date</th>\n",
              "      <th>pri_date</th>\n",
              "      <th>obs_date</th>\n",
              "    </tr>\n",
              "  </thead>\n",
              "  <tbody>\n",
              "    <tr>\n",
              "      <th>0</th>\n",
              "      <td>2022-02-03</td>\n",
              "      <td>NaN</td>\n",
              "      <td>NaN</td>\n",
              "      <td>NaN</td>\n",
              "      <td>NaN</td>\n",
              "      <td>NaN</td>\n",
              "    </tr>\n",
              "    <tr>\n",
              "      <th>1</th>\n",
              "      <td>NaN</td>\n",
              "      <td>NaN</td>\n",
              "      <td>NaN</td>\n",
              "      <td>NaN</td>\n",
              "      <td>NaN</td>\n",
              "      <td>NaN</td>\n",
              "    </tr>\n",
              "    <tr>\n",
              "      <th>2</th>\n",
              "      <td>2022-03-11</td>\n",
              "      <td>NaN</td>\n",
              "      <td>NaN</td>\n",
              "      <td>NaN</td>\n",
              "      <td>NaN</td>\n",
              "      <td>NaN</td>\n",
              "    </tr>\n",
              "    <tr>\n",
              "      <th>3</th>\n",
              "      <td>2021-10-13</td>\n",
              "      <td>2020-01-15</td>\n",
              "      <td>NaN</td>\n",
              "      <td>NaN</td>\n",
              "      <td>NaN</td>\n",
              "      <td>NaN</td>\n",
              "    </tr>\n",
              "    <tr>\n",
              "      <th>4</th>\n",
              "      <td>2021-10-13</td>\n",
              "      <td>2021-10-13</td>\n",
              "      <td>2021-10-29</td>\n",
              "      <td>2021-10-29</td>\n",
              "      <td>2021-10-29</td>\n",
              "      <td>2021-10-29</td>\n",
              "    </tr>\n",
              "    <tr>\n",
              "      <th>...</th>\n",
              "      <td>...</td>\n",
              "      <td>...</td>\n",
              "      <td>...</td>\n",
              "      <td>...</td>\n",
              "      <td>...</td>\n",
              "      <td>...</td>\n",
              "    </tr>\n",
              "    <tr>\n",
              "      <th>8580</th>\n",
              "      <td>2021-11-10</td>\n",
              "      <td>2021-01-12</td>\n",
              "      <td>2021-10-19</td>\n",
              "      <td>2021-10-19</td>\n",
              "      <td>2021-11-10</td>\n",
              "      <td>2021-10-19</td>\n",
              "    </tr>\n",
              "    <tr>\n",
              "      <th>8581</th>\n",
              "      <td>2021-10-12</td>\n",
              "      <td>2019-01-15</td>\n",
              "      <td>2021-10-12</td>\n",
              "      <td>2021-10-12</td>\n",
              "      <td>2021-10-12</td>\n",
              "      <td>2021-10-12</td>\n",
              "    </tr>\n",
              "    <tr>\n",
              "      <th>8582</th>\n",
              "      <td>2021-11-02</td>\n",
              "      <td>2018-01-07</td>\n",
              "      <td>2021-10-06</td>\n",
              "      <td>2021-10-06</td>\n",
              "      <td>2021-10-06</td>\n",
              "      <td>2021-10-06</td>\n",
              "    </tr>\n",
              "    <tr>\n",
              "      <th>8583</th>\n",
              "      <td>2021-11-05</td>\n",
              "      <td>2021-01-15</td>\n",
              "      <td>NaN</td>\n",
              "      <td>NaN</td>\n",
              "      <td>NaN</td>\n",
              "      <td>NaN</td>\n",
              "    </tr>\n",
              "    <tr>\n",
              "      <th>8584</th>\n",
              "      <td>2021-09-21</td>\n",
              "      <td>NaN</td>\n",
              "      <td>NaN</td>\n",
              "      <td>NaN</td>\n",
              "      <td>NaN</td>\n",
              "      <td>NaN</td>\n",
              "    </tr>\n",
              "  </tbody>\n",
              "</table>\n",
              "<p>8585 rows × 6 columns</p>\n",
              "</div>\n",
              "      <button class=\"colab-df-convert\" onclick=\"convertToInteractive('df-b1bedb6e-f3da-4963-8ce0-9853366eece5')\"\n",
              "              title=\"Convert this dataframe to an interactive table.\"\n",
              "              style=\"display:none;\">\n",
              "        \n",
              "  <svg xmlns=\"http://www.w3.org/2000/svg\" height=\"24px\"viewBox=\"0 0 24 24\"\n",
              "       width=\"24px\">\n",
              "    <path d=\"M0 0h24v24H0V0z\" fill=\"none\"/>\n",
              "    <path d=\"M18.56 5.44l.94 2.06.94-2.06 2.06-.94-2.06-.94-.94-2.06-.94 2.06-2.06.94zm-11 1L8.5 8.5l.94-2.06 2.06-.94-2.06-.94L8.5 2.5l-.94 2.06-2.06.94zm10 10l.94 2.06.94-2.06 2.06-.94-2.06-.94-.94-2.06-.94 2.06-2.06.94z\"/><path d=\"M17.41 7.96l-1.37-1.37c-.4-.4-.92-.59-1.43-.59-.52 0-1.04.2-1.43.59L10.3 9.45l-7.72 7.72c-.78.78-.78 2.05 0 2.83L4 21.41c.39.39.9.59 1.41.59.51 0 1.02-.2 1.41-.59l7.78-7.78 2.81-2.81c.8-.78.8-2.07 0-2.86zM5.41 20L4 18.59l7.72-7.72 1.47 1.35L5.41 20z\"/>\n",
              "  </svg>\n",
              "      </button>\n",
              "      \n",
              "  <style>\n",
              "    .colab-df-container {\n",
              "      display:flex;\n",
              "      flex-wrap:wrap;\n",
              "      gap: 12px;\n",
              "    }\n",
              "\n",
              "    .colab-df-convert {\n",
              "      background-color: #E8F0FE;\n",
              "      border: none;\n",
              "      border-radius: 50%;\n",
              "      cursor: pointer;\n",
              "      display: none;\n",
              "      fill: #1967D2;\n",
              "      height: 32px;\n",
              "      padding: 0 0 0 0;\n",
              "      width: 32px;\n",
              "    }\n",
              "\n",
              "    .colab-df-convert:hover {\n",
              "      background-color: #E2EBFA;\n",
              "      box-shadow: 0px 1px 2px rgba(60, 64, 67, 0.3), 0px 1px 3px 1px rgba(60, 64, 67, 0.15);\n",
              "      fill: #174EA6;\n",
              "    }\n",
              "\n",
              "    [theme=dark] .colab-df-convert {\n",
              "      background-color: #3B4455;\n",
              "      fill: #D2E3FC;\n",
              "    }\n",
              "\n",
              "    [theme=dark] .colab-df-convert:hover {\n",
              "      background-color: #434B5C;\n",
              "      box-shadow: 0px 1px 3px 1px rgba(0, 0, 0, 0.15);\n",
              "      filter: drop-shadow(0px 1px 2px rgba(0, 0, 0, 0.3));\n",
              "      fill: #FFFFFF;\n",
              "    }\n",
              "  </style>\n",
              "\n",
              "      <script>\n",
              "        const buttonEl =\n",
              "          document.querySelector('#df-b1bedb6e-f3da-4963-8ce0-9853366eece5 button.colab-df-convert');\n",
              "        buttonEl.style.display =\n",
              "          google.colab.kernel.accessAllowed ? 'block' : 'none';\n",
              "\n",
              "        async function convertToInteractive(key) {\n",
              "          const element = document.querySelector('#df-b1bedb6e-f3da-4963-8ce0-9853366eece5');\n",
              "          const dataTable =\n",
              "            await google.colab.kernel.invokeFunction('convertToInteractive',\n",
              "                                                     [key], {});\n",
              "          if (!dataTable) return;\n",
              "\n",
              "          const docLinkHtml = 'Like what you see? Visit the ' +\n",
              "            '<a target=\"_blank\" href=https://colab.research.google.com/notebooks/data_table.ipynb>data table notebook</a>'\n",
              "            + ' to learn more about interactive tables.';\n",
              "          element.innerHTML = '';\n",
              "          dataTable['output_type'] = 'display_data';\n",
              "          await google.colab.output.renderOutput(dataTable, element);\n",
              "          const docLink = document.createElement('div');\n",
              "          docLink.innerHTML = docLinkHtml;\n",
              "          element.appendChild(docLink);\n",
              "        }\n",
              "      </script>\n",
              "    </div>\n",
              "  </div>\n",
              "  "
            ]
          },
          "metadata": {},
          "execution_count": 75
        }
      ]
    },
    {
      "cell_type": "code",
      "source": [
        "Train.filter(like='date').isnull().sum()/len(Train)"
      ],
      "metadata": {
        "colab": {
          "base_uri": "https://localhost:8080/"
        },
        "id": "qivfIB9G1-KK",
        "outputId": "754d7a7a-3aa7-40a0-e63d-6a430aa8a003"
      },
      "execution_count": 76,
      "outputs": [
        {
          "output_type": "execute_result",
          "data": {
            "text/plain": [
              "child_date              0.212114\n",
              "child_enrolment_date    0.694700\n",
              "pqa_date                0.810017\n",
              "pra_date                0.809668\n",
              "pri_date                0.810367\n",
              "obs_date                0.809319\n",
              "dtype: float64"
            ]
          },
          "metadata": {},
          "execution_count": 76
        }
      ]
    },
    {
      "cell_type": "code",
      "source": [
        "vard[Train.filter(like='date').columns]\n",
        "#What do the dates mean? and how are they related?"
      ],
      "metadata": {
        "colab": {
          "base_uri": "https://localhost:8080/",
          "height": 112
        },
        "id": "SCuytwIs1SuM",
        "outputId": "c761237e-3496-46b2-8536-8766b7e00647"
      },
      "execution_count": 77,
      "outputs": [
        {
          "output_type": "execute_result",
          "data": {
            "text/plain": [
              "Variable Name   child_date  child_enrolment_date    pqa_date    pra_date  \\\n",
              "Variable Label   ELOM date  Date enrolled in ELP        Date        Date   \n",
              "Answer Label    Open ended            Open ended  Open ended  Open ended   \n",
              "\n",
              "Variable Name     pri_date    obs_date  \n",
              "Variable Label        Date        Date  \n",
              "Answer Label    Open ended  Open ended  "
            ],
            "text/html": [
              "\n",
              "  <div id=\"df-4860ff9e-1748-4474-9608-94dfd474d5af\">\n",
              "    <div class=\"colab-df-container\">\n",
              "      <div>\n",
              "<style scoped>\n",
              "    .dataframe tbody tr th:only-of-type {\n",
              "        vertical-align: middle;\n",
              "    }\n",
              "\n",
              "    .dataframe tbody tr th {\n",
              "        vertical-align: top;\n",
              "    }\n",
              "\n",
              "    .dataframe thead th {\n",
              "        text-align: right;\n",
              "    }\n",
              "</style>\n",
              "<table border=\"1\" class=\"dataframe\">\n",
              "  <thead>\n",
              "    <tr style=\"text-align: right;\">\n",
              "      <th>Variable Name</th>\n",
              "      <th>child_date</th>\n",
              "      <th>child_enrolment_date</th>\n",
              "      <th>pqa_date</th>\n",
              "      <th>pra_date</th>\n",
              "      <th>pri_date</th>\n",
              "      <th>obs_date</th>\n",
              "    </tr>\n",
              "  </thead>\n",
              "  <tbody>\n",
              "    <tr>\n",
              "      <th>Variable Label</th>\n",
              "      <td>ELOM date</td>\n",
              "      <td>Date enrolled in ELP</td>\n",
              "      <td>Date</td>\n",
              "      <td>Date</td>\n",
              "      <td>Date</td>\n",
              "      <td>Date</td>\n",
              "    </tr>\n",
              "    <tr>\n",
              "      <th>Answer Label</th>\n",
              "      <td>Open ended</td>\n",
              "      <td>Open ended</td>\n",
              "      <td>Open ended</td>\n",
              "      <td>Open ended</td>\n",
              "      <td>Open ended</td>\n",
              "      <td>Open ended</td>\n",
              "    </tr>\n",
              "  </tbody>\n",
              "</table>\n",
              "</div>\n",
              "      <button class=\"colab-df-convert\" onclick=\"convertToInteractive('df-4860ff9e-1748-4474-9608-94dfd474d5af')\"\n",
              "              title=\"Convert this dataframe to an interactive table.\"\n",
              "              style=\"display:none;\">\n",
              "        \n",
              "  <svg xmlns=\"http://www.w3.org/2000/svg\" height=\"24px\"viewBox=\"0 0 24 24\"\n",
              "       width=\"24px\">\n",
              "    <path d=\"M0 0h24v24H0V0z\" fill=\"none\"/>\n",
              "    <path d=\"M18.56 5.44l.94 2.06.94-2.06 2.06-.94-2.06-.94-.94-2.06-.94 2.06-2.06.94zm-11 1L8.5 8.5l.94-2.06 2.06-.94-2.06-.94L8.5 2.5l-.94 2.06-2.06.94zm10 10l.94 2.06.94-2.06 2.06-.94-2.06-.94-.94-2.06-.94 2.06-2.06.94z\"/><path d=\"M17.41 7.96l-1.37-1.37c-.4-.4-.92-.59-1.43-.59-.52 0-1.04.2-1.43.59L10.3 9.45l-7.72 7.72c-.78.78-.78 2.05 0 2.83L4 21.41c.39.39.9.59 1.41.59.51 0 1.02-.2 1.41-.59l7.78-7.78 2.81-2.81c.8-.78.8-2.07 0-2.86zM5.41 20L4 18.59l7.72-7.72 1.47 1.35L5.41 20z\"/>\n",
              "  </svg>\n",
              "      </button>\n",
              "      \n",
              "  <style>\n",
              "    .colab-df-container {\n",
              "      display:flex;\n",
              "      flex-wrap:wrap;\n",
              "      gap: 12px;\n",
              "    }\n",
              "\n",
              "    .colab-df-convert {\n",
              "      background-color: #E8F0FE;\n",
              "      border: none;\n",
              "      border-radius: 50%;\n",
              "      cursor: pointer;\n",
              "      display: none;\n",
              "      fill: #1967D2;\n",
              "      height: 32px;\n",
              "      padding: 0 0 0 0;\n",
              "      width: 32px;\n",
              "    }\n",
              "\n",
              "    .colab-df-convert:hover {\n",
              "      background-color: #E2EBFA;\n",
              "      box-shadow: 0px 1px 2px rgba(60, 64, 67, 0.3), 0px 1px 3px 1px rgba(60, 64, 67, 0.15);\n",
              "      fill: #174EA6;\n",
              "    }\n",
              "\n",
              "    [theme=dark] .colab-df-convert {\n",
              "      background-color: #3B4455;\n",
              "      fill: #D2E3FC;\n",
              "    }\n",
              "\n",
              "    [theme=dark] .colab-df-convert:hover {\n",
              "      background-color: #434B5C;\n",
              "      box-shadow: 0px 1px 3px 1px rgba(0, 0, 0, 0.15);\n",
              "      filter: drop-shadow(0px 1px 2px rgba(0, 0, 0, 0.3));\n",
              "      fill: #FFFFFF;\n",
              "    }\n",
              "  </style>\n",
              "\n",
              "      <script>\n",
              "        const buttonEl =\n",
              "          document.querySelector('#df-4860ff9e-1748-4474-9608-94dfd474d5af button.colab-df-convert');\n",
              "        buttonEl.style.display =\n",
              "          google.colab.kernel.accessAllowed ? 'block' : 'none';\n",
              "\n",
              "        async function convertToInteractive(key) {\n",
              "          const element = document.querySelector('#df-4860ff9e-1748-4474-9608-94dfd474d5af');\n",
              "          const dataTable =\n",
              "            await google.colab.kernel.invokeFunction('convertToInteractive',\n",
              "                                                     [key], {});\n",
              "          if (!dataTable) return;\n",
              "\n",
              "          const docLinkHtml = 'Like what you see? Visit the ' +\n",
              "            '<a target=\"_blank\" href=https://colab.research.google.com/notebooks/data_table.ipynb>data table notebook</a>'\n",
              "            + ' to learn more about interactive tables.';\n",
              "          element.innerHTML = '';\n",
              "          dataTable['output_type'] = 'display_data';\n",
              "          await google.colab.output.renderOutput(dataTable, element);\n",
              "          const docLink = document.createElement('div');\n",
              "          docLink.innerHTML = docLinkHtml;\n",
              "          element.appendChild(docLink);\n",
              "        }\n",
              "      </script>\n",
              "    </div>\n",
              "  </div>\n",
              "  "
            ]
          },
          "metadata": {},
          "execution_count": 77
        }
      ]
    },
    {
      "cell_type": "code",
      "source": [
        "heatmap(Train[['child_months_enrolment','target']])"
      ],
      "metadata": {
        "colab": {
          "base_uri": "https://localhost:8080/",
          "height": 468
        },
        "id": "Q84WeE5y2rTV",
        "outputId": "0c460bb4-3007-40cd-e15b-06a8a47787c6"
      },
      "execution_count": 78,
      "outputs": [
        {
          "output_type": "display_data",
          "data": {
            "text/plain": [
              "<Figure size 1000x500 with 2 Axes>"
            ],
            "image/png": "[encoded data removed]"
          },
          "metadata": {}
        }
      ]
    },
    {
      "cell_type": "code",
      "source": [
        "Train.corr()['child_months_enrolment'].sort_values(ascending=False)[:10]"
      ],
      "metadata": {
        "colab": {
          "base_uri": "https://localhost:8080/"
        },
        "id": "8HSNu7uT3G2t",
        "outputId": "f528a01f-8651-47e0-8e2f-4ba9e1441955"
      },
      "execution_count": 79,
      "outputs": [
        {
          "output_type": "execute_result",
          "data": {
            "text/plain": [
              "child_months_enrolment       1.000000\n",
              "count_practitioners_age_1    0.191992\n",
              "count_register_year_2019     0.166057\n",
              "count_register_year_2018     0.136209\n",
              "id_enumerator                0.122746\n",
              "count_register_year_2020     0.122652\n",
              "pri_expense_food             0.116351\n",
              "count_practitioners_age_0    0.109439\n",
              "count_practitioners_age_3    0.089108\n",
              "obs_classrooms               0.087340\n",
              "Name: child_months_enrolment, dtype: float64"
            ]
          },
          "metadata": {},
          "execution_count": 79
        }
      ]
    },
    {
      "cell_type": "code",
      "source": [
        "Train[['count_practitioners_age_1','count_register_year_2019', 'count_register_year_2018', 'id_enumerator',\n",
        "      'count_register_year_2020', 'pri_expense_food','count_practitioners_age_0', 'count_practitioners_age_3','obs_classrooms']].isnull().sum()/len(Train)"
      ],
      "metadata": {
        "colab": {
          "base_uri": "https://localhost:8080/"
        },
        "id": "MYog7tnu66Qq",
        "outputId": "2b1199cb-2e5d-4e9b-b374-8911b78d9244"
      },
      "execution_count": 81,
      "outputs": [
        {
          "output_type": "execute_result",
          "data": {
            "text/plain": [
              "count_practitioners_age_1    0.810367\n",
              "count_register_year_2019     0.459755\n",
              "count_register_year_2018     0.461153\n",
              "id_enumerator                0.165754\n",
              "count_register_year_2020     0.461619\n",
              "pri_expense_food             0.811415\n",
              "count_practitioners_age_0    0.810367\n",
              "count_practitioners_age_3    0.810367\n",
              "obs_classrooms               0.419336\n",
              "dtype: float64"
            ]
          },
          "metadata": {},
          "execution_count": 81
        }
      ]
    },
    {
      "cell_type": "code",
      "source": [
        "#We are missing about 69% of the Child Enrolment Dates? Should we drop the columns?\n",
        "#There doesn't seem to be an accurate way of replacing the missing dates\n",
        "#Dropping all columns with missing values up to the 80th percentile\n",
        "#There doesn't seem to be a positive correlation with months enrolment with other features, CHECK BACK LATER"
      ],
      "metadata": {
        "id": "jwkrJG850zkE"
      },
      "execution_count": null,
      "outputs": []
    },
    {
      "cell_type": "markdown",
      "source": [
        "###child_years_in_programme"
      ],
      "metadata": {
        "id": "RxgltGVbJg4C"
      }
    },
    {
      "cell_type": "code",
      "source": [
        "Train['child_years_in_programme'].isnull().sum()/len(Train)"
      ],
      "metadata": {
        "colab": {
          "base_uri": "https://localhost:8080/"
        },
        "id": "7VEGRMC7JqsM",
        "outputId": "336f627e-644b-40ce-b590-9333c142523c"
      },
      "execution_count": 82,
      "outputs": [
        {
          "output_type": "execute_result",
          "data": {
            "text/plain": [
              "0.08223645894001165"
            ]
          },
          "metadata": {},
          "execution_count": 82
        }
      ]
    },
    {
      "cell_type": "code",
      "source": [
        "Train['child_years_in_programme'].value_counts()"
      ],
      "metadata": {
        "colab": {
          "base_uri": "https://localhost:8080/"
        },
        "id": "afubksZRJzIM",
        "outputId": "725b9ced-51e6-4014-b1a1-58c7bb6a1183"
      },
      "execution_count": 84,
      "outputs": [
        {
          "output_type": "execute_result",
          "data": {
            "text/plain": [
              "1st year in the programme    4369\n",
              "2nd year in programme        1917\n",
              "3rd year in programme        1485\n",
              "Do Not Know                   108\n",
              "Name: child_years_in_programme, dtype: int64"
            ]
          },
          "metadata": {},
          "execution_count": 84
        }
      ]
    },
    {
      "cell_type": "code",
      "source": [
        "barchart(Train['child_years_in_programme'], Train['target'],10,5)"
      ],
      "metadata": {
        "colab": {
          "base_uri": "https://localhost:8080/",
          "height": 487
        },
        "id": "CbzCXguhKG6L",
        "outputId": "edd888d3-de33-46ac-cc0f-469b211ced38"
      },
      "execution_count": 85,
      "outputs": [
        {
          "output_type": "display_data",
          "data": {
            "text/plain": [
              "<Figure size 1000x500 with 1 Axes>"
            ],
            "image/png": "[encoded data removed]"
          },
          "metadata": {}
        }
      ]
    },
    {
      "cell_type": "code",
      "source": [
        "stack_barchart(Train['child_years_in_programme'],Train['target'],hue=Train['target_cat'],length=10,width=5)\n",
        "#The third year seems to have the most uneven distribution, it has the smallest distribution of the classes of child_grant\n",
        "#The second years seems to have the most even distribution"
      ],
      "metadata": {
        "colab": {
          "base_uri": "https://localhost:8080/",
          "height": 487
        },
        "id": "jnsEuWakKUJV",
        "outputId": "ca3298ff-3357-4e78-c266-976fe2254925"
      },
      "execution_count": 87,
      "outputs": [
        {
          "output_type": "display_data",
          "data": {
            "text/plain": [
              "<Figure size 1000x500 with 1 Axes>"
            ],
            "image/png": "[encoded data removed]"
          },
          "metadata": {}
        }
      ]
    },
    {
      "cell_type": "code",
      "source": [
        "first = Train[Train['child_years_in_programme']=='1st year in the programme']\n",
        "second = Train[Train['child_years_in_programme']=='2nd year in programme']\n",
        "third = Train[Train['child_years_in_programme']=='3rd year in programme']\n",
        "dnk = Train[Train['child_years_in_programme']=='Do Not Know']\n",
        "\n",
        "print(f\"\"\"FIRST \\n{first['target_cat'].value_counts()/len(first)}\\nSECOND \\n{second['target_cat'].value_counts()/len(second)}\n",
        "      \\nTHIRD \\n{third['target_cat'].value_counts()/len(third)}\\nDON'T KNOW \\n{dnk['target_cat'].value_counts()/len(dnk)}\\n\"\"\")"
      ],
      "metadata": {
        "colab": {
          "base_uri": "https://localhost:8080/"
        },
        "id": "w5azHNA9hIZX",
        "outputId": "d79deb31-e547-4162-d6a1-967426bf4c40"
      },
      "execution_count": 91,
      "outputs": [
        {
          "output_type": "stream",
          "name": "stdout",
          "text": [
            "FIRST \n",
            "Achieving the Standard    0.474708\n",
            "Falling Behind            0.255207\n",
            "At Risk                   0.242847\n",
            "Name: target_cat, dtype: float64\n",
            " SECOND \n",
            "Achieving the Standard    0.451226\n",
            "Falling Behind            0.272300\n",
            "At Risk                   0.259259\n",
            "Name: target_cat, dtype: float64\n",
            "      \n",
            " THIRD \n",
            "Achieving the Standard    0.480135\n",
            "Falling Behind            0.267340\n",
            "At Risk                   0.243098\n",
            "Name: target_cat, dtype: float64\n",
            " DON'T KNOW \n",
            "Achieving the Standard    0.462963\n",
            "Falling Behind            0.212963\n",
            "At Risk                   0.194444\n",
            "Name: target_cat, dtype: float64\n",
            "\n"
          ]
        }
      ]
    },
    {
      "cell_type": "code",
      "source": [
        "stack_barchart(Train['child_years_in_programme'],Train['target'],hue=Train['age_bin'],length=10,width=5)\n",
        "#The children seem to be evenly distributed by age groups in the program years"
      ],
      "metadata": {
        "colab": {
          "base_uri": "https://localhost:8080/",
          "height": 487
        },
        "id": "z-EhtkMyLmo8",
        "outputId": "07eaf9dc-751c-4b72-c9fa-30d612a44d2f"
      },
      "execution_count": 89,
      "outputs": [
        {
          "output_type": "display_data",
          "data": {
            "text/plain": [
              "<Figure size 1000x500 with 1 Axes>"
            ],
            "image/png": "[encoded data removed]"
          },
          "metadata": {}
        }
      ]
    },
    {
      "cell_type": "code",
      "source": [
        "first = Train[Train['child_years_in_programme']=='1st year in the programme']\n",
        "second = Train[Train['child_years_in_programme']=='2nd year in programme']\n",
        "third = Train[Train['child_years_in_programme']=='3rd year in programme']\n",
        "dnk = Train[Train['child_years_in_programme']=='Do Not Know']\n",
        "\n",
        "print(f\"\"\"FIRST \\n{first['age_bin'].value_counts()/len(first)}\\nSECOND \\n{second['age_bin'].value_counts()/len(second)}\n",
        "      \\nTHIRD \\n{third['age_bin'].value_counts()/len(third)}\\nDON'T KNOW \\n{dnk['age_bin'].value_counts()/len(dnk)}\\n\"\"\")"
      ],
      "metadata": {
        "colab": {
          "base_uri": "https://localhost:8080/"
        },
        "id": "BY0K7m6MjtHc",
        "outputId": "362c44aa-40fa-4654-bbdd-3895452232ea"
      },
      "execution_count": 93,
      "outputs": [
        {
          "output_type": "stream",
          "name": "stdout",
          "text": [
            "FIRST \n",
            "4    0.245136\n",
            "0    0.193179\n",
            "3    0.189746\n",
            "2    0.187686\n",
            "1    0.184253\n",
            "Name: age_bin, dtype: float64\n",
            "SECOND \n",
            "1    0.302556\n",
            "0    0.290037\n",
            "2    0.249348\n",
            "3    0.099113\n",
            "4    0.058946\n",
            "Name: age_bin, dtype: float64\n",
            "      \n",
            "THIRD \n",
            "0    0.309764\n",
            "1    0.306397\n",
            "2    0.251852\n",
            "3    0.078788\n",
            "4    0.053199\n",
            "Name: age_bin, dtype: float64\n",
            "DON'T KNOW \n",
            "4    0.379630\n",
            "3    0.259259\n",
            "2    0.203704\n",
            "0    0.083333\n",
            "1    0.074074\n",
            "Name: age_bin, dtype: float64\n",
            "\n"
          ]
        }
      ]
    },
    {
      "cell_type": "code",
      "source": [
        "\"\"\"Age may impact program participation: The distribution of age groups may impact the number of years children spend in the programme. \n",
        "For example, children in age bin 0 (likely younger children) have higher proportions in the first and third years of the programme, \n",
        "while children in age bin 1 (slightly older children) have a higher proportion in the second year of the programme. \n",
        "This suggests that age may impact the duration of participation in the programme, with younger children potentially spending more time \n",
        "in the programme compared to older children.\"\"\"\n",
        "pass"
      ],
      "metadata": {
        "id": "Fj6jXi0gny-2"
      },
      "execution_count": 97,
      "outputs": []
    },
    {
      "cell_type": "markdown",
      "source": [
        "###child_height"
      ],
      "metadata": {
        "id": "2aALNzhtl8Pt"
      }
    },
    {
      "cell_type": "code",
      "source": [],
      "metadata": {
        "id": "ZOtDGGsXjuSF"
      },
      "execution_count": null,
      "outputs": []
    },
    {
      "cell_type": "code",
      "source": [],
      "metadata": {
        "id": "7aIQoyyAjuXK"
      },
      "execution_count": null,
      "outputs": []
    },
    {
      "cell_type": "code",
      "source": [],
      "metadata": {
        "id": "vZdSu6f7juex"
      },
      "execution_count": null,
      "outputs": []
    },
    {
      "cell_type": "code",
      "source": [],
      "metadata": {
        "id": "ciGuQBa6julI"
      },
      "execution_count": null,
      "outputs": []
    },
    {
      "cell_type": "code",
      "source": [],
      "metadata": {
        "id": "6PkIQfmwjupp"
      },
      "execution_count": null,
      "outputs": []
    },
    {
      "cell_type": "code",
      "source": [],
      "metadata": {
        "id": "47JfvbwXjuvh"
      },
      "execution_count": null,
      "outputs": []
    },
    {
      "cell_type": "code",
      "source": [],
      "metadata": {
        "id": "X-_IIZFLju0E"
      },
      "execution_count": null,
      "outputs": []
    },
    {
      "cell_type": "code",
      "source": [],
      "metadata": {
        "id": "ONSJ6eLHju4d"
      },
      "execution_count": null,
      "outputs": []
    },
    {
      "cell_type": "code",
      "source": [],
      "metadata": {
        "id": "H7q72VGGjvAw"
      },
      "execution_count": null,
      "outputs": []
    },
    {
      "cell_type": "code",
      "source": [],
      "metadata": {
        "id": "EzEzk7MhjvEe"
      },
      "execution_count": null,
      "outputs": []
    },
    {
      "cell_type": "code",
      "source": [],
      "metadata": {
        "id": "YyfGgzirjvJy"
      },
      "execution_count": null,
      "outputs": []
    },
    {
      "cell_type": "code",
      "source": [],
      "metadata": {
        "id": "aD-SEOi8jvOq"
      },
      "execution_count": null,
      "outputs": []
    },
    {
      "cell_type": "code",
      "source": [],
      "metadata": {
        "id": "xkTScHEljvS3"
      },
      "execution_count": null,
      "outputs": []
    },
    {
      "cell_type": "code",
      "source": [],
      "metadata": {
        "id": "FMBa6p1zjvX-"
      },
      "execution_count": null,
      "outputs": []
    },
    {
      "cell_type": "code",
      "source": [],
      "metadata": {
        "id": "m83JXFqXjvcw"
      },
      "execution_count": null,
      "outputs": []
    },
    {
      "cell_type": "code",
      "source": [],
      "metadata": {
        "id": "4Zb5TA5Tjvhl"
      },
      "execution_count": null,
      "outputs": []
    },
    {
      "cell_type": "code",
      "source": [],
      "metadata": {
        "id": "17PSm9UNjvmi"
      },
      "execution_count": null,
      "outputs": []
    },
    {
      "cell_type": "code",
      "source": [],
      "metadata": {
        "id": "hGA2U0DJjvrj"
      },
      "execution_count": null,
      "outputs": []
    },
    {
      "cell_type": "code",
      "source": [],
      "metadata": {
        "id": "fudD19Mojvwa"
      },
      "execution_count": null,
      "outputs": []
    },
    {
      "cell_type": "code",
      "source": [],
      "metadata": {
        "id": "OYkTHR6Ljv10"
      },
      "execution_count": null,
      "outputs": []
    },
    {
      "cell_type": "code",
      "source": [],
      "metadata": {
        "id": "M3gy36ikjv7F"
      },
      "execution_count": null,
      "outputs": []
    },
    {
      "cell_type": "code",
      "source": [],
      "metadata": {
        "id": "znvWiPppjv_e"
      },
      "execution_count": null,
      "outputs": []
    },
    {
      "cell_type": "code",
      "source": [],
      "metadata": {
        "id": "kl1s9IA8jwFI"
      },
      "execution_count": null,
      "outputs": []
    },
    {
      "cell_type": "code",
      "source": [],
      "metadata": {
        "id": "cneoTAs2jwJ5"
      },
      "execution_count": null,
      "outputs": []
    },
    {
      "cell_type": "code",
      "source": [],
      "metadata": {
        "id": "Ilx88cXYjwOE"
      },
      "execution_count": null,
      "outputs": []
    },
    {
      "cell_type": "code",
      "source": [],
      "metadata": {
        "id": "7hitfskzjwTd"
      },
      "execution_count": null,
      "outputs": []
    },
    {
      "cell_type": "code",
      "source": [],
      "metadata": {
        "id": "88hsjazbjwYv"
      },
      "execution_count": null,
      "outputs": []
    },
    {
      "cell_type": "code",
      "source": [],
      "metadata": {
        "id": "FtN9oBGqjwdy"
      },
      "execution_count": null,
      "outputs": []
    },
    {
      "cell_type": "code",
      "source": [],
      "metadata": {
        "id": "68xLtvKWjwjA"
      },
      "execution_count": null,
      "outputs": []
    },
    {
      "cell_type": "code",
      "source": [],
      "metadata": {
        "id": "4EKG1Wwijwox"
      },
      "execution_count": null,
      "outputs": []
    },
    {
      "cell_type": "markdown",
      "source": [
        "#Baseline Score"
      ],
      "metadata": {
        "id": "GwKXtVGjJUJ7"
      }
    },
    {
      "cell_type": "code",
      "source": [
        "def Baseline_Pred(model, X, y, test, scaler=None, verbose=False, predictions=True):\n",
        "  fold = KFold(n_splits=5)\n",
        "  test_preds = []\n",
        "  oof_f1 = []\n",
        "  for train_index, test_index in fold.split(X, y):\n",
        "    X_train, X_test = X.iloc[train_index],X.iloc[test_index]\n",
        "    y_train, y_test = y.iloc[train_index],y.iloc[test_index]\n",
        "    model.fit(X_train, y_train, eval_set=(X_test, y_test), verbose=verbose)\n",
        "    preds=model.predict(X_test)\n",
        "    if predictions:\n",
        "      test_pred = model.predict(test[X.columns])\n",
        "      test_preds.append(test_pred)\n",
        "    print(f\"RMSE {mean_squared_error(y_test,preds,squared=False)}\")\n",
        "    oof_f1.append(mean_squared_error(y_test,preds,squared=False))\n",
        "\n",
        "  print(f\"Average_RMSE {sum(oof_f1)/5}\")\n",
        "  if predictions: \n",
        "    return test_preds, model\n",
        "  return model"
      ],
      "metadata": {
        "id": "MedYJsfXLc25"
      },
      "execution_count": null,
      "outputs": []
    },
    {
      "cell_type": "markdown",
      "source": [
        "###Numerical Columns"
      ],
      "metadata": {
        "id": "sBWtLTPl7nuY"
      }
    },
    {
      "cell_type": "code",
      "source": [
        "# num_cols = list(set(Test.select_dtypes('number')).intersection(Train.select_dtypes('number')))\n",
        "num_cols = Train.select_dtypes('number').columns\n",
        "num_train = Train[num_cols]\n",
        "#num_test = Test[num_cols]"
      ],
      "metadata": {
        "id": "gEBos6vw7m5x"
      },
      "execution_count": null,
      "outputs": []
    },
    {
      "cell_type": "code",
      "source": [
        "missing_train_cols= plot_missing_cols(num_train, threshold=0.8, plot=False)\n",
        "#missing_test_cols = plot_missing_cols(num_test, threshold=0.8, plot=False)\n",
        "num_Train = num_train.drop(missing_train_cols,axis=1)\n",
        "#num_Test = num_test.drop(missing_test_cols,axis=1)"
      ],
      "metadata": {
        "id": "eKt2h3y898p2"
      },
      "execution_count": null,
      "outputs": []
    },
    {
      "cell_type": "code",
      "source": [
        "model_cbc = CatBoostRegressor(eval_metric='RMSE')"
      ],
      "metadata": {
        "id": "EuuNhnMG9FGH"
      },
      "execution_count": null,
      "outputs": []
    },
    {
      "cell_type": "code",
      "source": [
        "num_Train.drop(['target'],axis=1,inplace=True)"
      ],
      "metadata": {
        "id": "IdwPQDb776Kx"
      },
      "execution_count": null,
      "outputs": []
    },
    {
      "cell_type": "code",
      "source": [
        "cbc_model = Baseline_Pred(model_cbc, num_Train, Train['target'], Test, verbose=False, predictions=False)"
      ],
      "metadata": {
        "colab": {
          "base_uri": "https://localhost:8080/"
        },
        "id": "HWBulDvM9Pr9",
        "outputId": "73644d15-5a5f-44b9-e007-af5c147c2d9b"
      },
      "execution_count": null,
      "outputs": [
        {
          "output_type": "stream",
          "name": "stdout",
          "text": [
            "RMSE 9.904369984539441\n",
            "RMSE 10.026474013770711\n",
            "RMSE 10.007749172689108\n",
            "RMSE 9.948819393791988\n",
            "RMSE 10.116683731934891\n",
            "Average_RMSE 10.000819259345228\n"
          ]
        }
      ]
    },
    {
      "cell_type": "markdown",
      "source": [
        "###Categorical Columns"
      ],
      "metadata": {
        "id": "bllKBZbD76xF"
      }
    },
    {
      "cell_type": "code",
      "source": [
        "\n",
        "cat_cols = Train.select_dtypes(include=['object']).columns\n"
      ],
      "metadata": {
        "id": "L_APzE_ZITD2"
      },
      "execution_count": null,
      "outputs": []
    },
    {
      "cell_type": "code",
      "source": [
        "le = LabelEncoder()"
      ],
      "metadata": {
        "id": "2MgcCySFwMnD"
      },
      "execution_count": null,
      "outputs": []
    },
    {
      "cell_type": "code",
      "source": [
        "test_cat_cols = Test.select_dtypes('object').columns"
      ],
      "metadata": {
        "id": "eenr5AUrTmyp"
      },
      "execution_count": null,
      "outputs": []
    },
    {
      "cell_type": "code",
      "source": [
        "cat_train = Train[cat_cols]\n",
        "cat_test = Test[test_cat_cols]\n",
        "missing_cols_train = plot_missing_cols(cat_train,threshold=0.8,plot=False)\n",
        "missing_cols_test = plot_missing_cols(cat_test, threshold=0.8,plot=False)"
      ],
      "metadata": {
        "id": "e4cWi6Z5USbj"
      },
      "execution_count": null,
      "outputs": []
    },
    {
      "cell_type": "code",
      "source": [
        "cat_Train = cat_train.drop(missing_cols_train,axis=1)\n",
        "cat_Test = cat_test.drop(missing_cols_test,axis=1)"
      ],
      "metadata": {
        "id": "oNh3M7nCWZtX"
      },
      "execution_count": null,
      "outputs": []
    },
    {
      "cell_type": "code",
      "source": [
        "for col in cat_Train.columns:\n",
        "  cat_Train[col] = le.fit_transform(cat_Train[col])"
      ],
      "metadata": {
        "id": "5p59k_DvXwqa"
      },
      "execution_count": null,
      "outputs": []
    },
    {
      "cell_type": "code",
      "source": [
        "for col in cat_Test.columns:\n",
        "  cat_Test[col] = le.fit_transform(cat_Test[col])"
      ],
      "metadata": {
        "id": "_9aob_35X8og"
      },
      "execution_count": null,
      "outputs": []
    },
    {
      "cell_type": "code",
      "source": [
        "cat_Train.drop(['child_id'],axis=1,inplace=True)\n",
        "cat_Test.drop(['child_id'],axis=1,inplace=True)"
      ],
      "metadata": {
        "id": "IEDEjTSTYGHt"
      },
      "execution_count": null,
      "outputs": []
    },
    {
      "cell_type": "code",
      "source": [
        "model_cbc = CatBoostRegressor(eval_metric='RMSE')"
      ],
      "metadata": {
        "id": "Q2_yP_qOcXft"
      },
      "execution_count": null,
      "outputs": []
    },
    {
      "cell_type": "code",
      "source": [
        "cbc_preds, cbc_model = Baseline_Pred(model_cbc, cat_Train, Train['target'], cat_Test)"
      ],
      "metadata": {
        "colab": {
          "base_uri": "https://localhost:8080/"
        },
        "id": "umv55D1PSrue",
        "outputId": "07863e7f-d80f-4cb9-f258-5aaf38f75a43"
      },
      "execution_count": null,
      "outputs": [
        {
          "output_type": "stream",
          "name": "stdout",
          "text": [
            "Learning rate set to 0.068909\n",
            "0:\tlearn: 14.8490521\ttest: 14.9501283\tbest: 14.9501283 (0)\ttotal: 14.2ms\tremaining: 14.2s\n",
            "200:\tlearn: 9.6851307\ttest: 10.8059703\tbest: 10.8059703 (200)\ttotal: 2.2s\tremaining: 8.75s\n",
            "400:\tlearn: 8.5918430\ttest: 10.5717527\tbest: 10.5717527 (400)\ttotal: 6.59s\tremaining: 9.85s\n",
            "600:\tlearn: 7.8813659\ttest: 10.4825866\tbest: 10.4825866 (600)\ttotal: 8.51s\tremaining: 5.65s\n",
            "800:\tlearn: 7.3504625\ttest: 10.4260275\tbest: 10.4236185 (793)\ttotal: 10.4s\tremaining: 2.59s\n",
            "999:\tlearn: 6.9070716\ttest: 10.3981200\tbest: 10.3970409 (953)\ttotal: 12.4s\tremaining: 0us\n",
            "\n",
            "bestTest = 10.39704089\n",
            "bestIteration = 953\n",
            "\n",
            "Shrink model to first 954 iterations.\n",
            "RMSE 10.397040890663636\n",
            "Learning rate set to 0.068909\n",
            "0:\tlearn: 14.8672276\ttest: 14.8676553\tbest: 14.8676553 (0)\ttotal: 15.5ms\tremaining: 15.5s\n",
            "200:\tlearn: 9.6293003\ttest: 10.8097779\tbest: 10.8097779 (200)\ttotal: 2.05s\tremaining: 8.14s\n",
            "400:\tlearn: 8.5092754\ttest: 10.5692738\tbest: 10.5692738 (400)\ttotal: 5.35s\tremaining: 8s\n",
            "600:\tlearn: 7.7664169\ttest: 10.5038614\tbest: 10.5036988 (596)\ttotal: 8.48s\tremaining: 5.63s\n",
            "800:\tlearn: 7.2433573\ttest: 10.4691334\tbest: 10.4686263 (798)\ttotal: 10.4s\tremaining: 2.57s\n",
            "999:\tlearn: 6.7936511\ttest: 10.4801325\tbest: 10.4686263 (798)\ttotal: 12.2s\tremaining: 0us\n",
            "\n",
            "bestTest = 10.46862634\n",
            "bestIteration = 798\n",
            "\n",
            "Shrink model to first 799 iterations.\n",
            "RMSE 10.468626338074056\n",
            "Learning rate set to 0.068909\n",
            "0:\tlearn: 14.8605979\ttest: 14.8819323\tbest: 14.8819323 (0)\ttotal: 11.4ms\tremaining: 11.4s\n",
            "200:\tlearn: 9.7905186\ttest: 10.6805752\tbest: 10.6805752 (200)\ttotal: 1.99s\tremaining: 7.9s\n",
            "400:\tlearn: 8.6608540\ttest: 10.4232076\tbest: 10.4230771 (392)\ttotal: 3.93s\tremaining: 5.88s\n",
            "600:\tlearn: 7.9187171\ttest: 10.3400982\tbest: 10.3395154 (595)\ttotal: 7.77s\tremaining: 5.16s\n",
            "800:\tlearn: 7.3785113\ttest: 10.3022397\tbest: 10.3022397 (800)\ttotal: 10.4s\tremaining: 2.58s\n",
            "999:\tlearn: 6.9165701\ttest: 10.2934576\tbest: 10.2895843 (951)\ttotal: 12.3s\tremaining: 0us\n",
            "\n",
            "bestTest = 10.28958429\n",
            "bestIteration = 951\n",
            "\n",
            "Shrink model to first 952 iterations.\n",
            "RMSE 10.289584290164658\n",
            "Learning rate set to 0.068909\n",
            "0:\tlearn: 14.9665934\ttest: 14.5630131\tbest: 14.5630131 (0)\ttotal: 11.2ms\tremaining: 11.2s\n",
            "200:\tlearn: 9.7387718\ttest: 10.8536809\tbest: 10.8536809 (200)\ttotal: 2.04s\tremaining: 8.13s\n",
            "400:\tlearn: 8.6540426\ttest: 10.5156340\tbest: 10.5156340 (400)\ttotal: 3.95s\tremaining: 5.89s\n",
            "600:\tlearn: 7.9211151\ttest: 10.4148143\tbest: 10.4133766 (595)\ttotal: 6.22s\tremaining: 4.13s\n",
            "800:\tlearn: 7.3743515\ttest: 10.3669589\tbest: 10.3652930 (774)\ttotal: 10.4s\tremaining: 2.59s\n",
            "999:\tlearn: 6.9118465\ttest: 10.3524296\tbest: 10.3465118 (910)\ttotal: 12.3s\tremaining: 0us\n",
            "\n",
            "bestTest = 10.34651178\n",
            "bestIteration = 910\n",
            "\n",
            "Shrink model to first 911 iterations.\n",
            "RMSE 10.346511782958078\n",
            "Learning rate set to 0.068909\n",
            "0:\tlearn: 14.8119526\ttest: 15.1233840\tbest: 15.1233840 (0)\ttotal: 17.5ms\tremaining: 17.5s\n",
            "200:\tlearn: 9.7816313\ttest: 11.0196934\tbest: 11.0190804 (199)\ttotal: 2.02s\tremaining: 8.03s\n",
            "400:\tlearn: 8.6498711\ttest: 10.6400060\tbest: 10.6400060 (400)\ttotal: 3.91s\tremaining: 5.84s\n",
            "600:\tlearn: 7.9050269\ttest: 10.5120530\tbest: 10.5112238 (598)\ttotal: 5.76s\tremaining: 3.83s\n",
            "800:\tlearn: 7.3623172\ttest: 10.4496718\tbest: 10.4486372 (798)\ttotal: 9.45s\tremaining: 2.35s\n",
            "999:\tlearn: 6.9493276\ttest: 10.4062589\tbest: 10.4062589 (999)\ttotal: 12.7s\tremaining: 0us\n",
            "\n",
            "bestTest = 10.40625885\n",
            "bestIteration = 999\n",
            "\n",
            "RMSE 10.406258856828236\n",
            "Average_RMSE 10.381604431737733\n"
          ]
        }
      ]
    },
    {
      "cell_type": "markdown",
      "source": [
        "##Submission"
      ],
      "metadata": {
        "id": "vDPv-3ZP9d-I"
      }
    },
    {
      "cell_type": "code",
      "source": [
        "explainer = shap.Explainer(cbc_model)"
      ],
      "metadata": {
        "id": "qB9xDBMNemDw"
      },
      "execution_count": null,
      "outputs": []
    },
    {
      "cell_type": "code",
      "source": [
        "# Compute the SHAP values for your test dataset\n",
        "shap_values = explainer(num_Test)"
      ],
      "metadata": {
        "id": "y0xqSSl9cQXY"
      },
      "execution_count": null,
      "outputs": []
    },
    {
      "cell_type": "code",
      "source": [
        "xd = num_Test.copy()\n",
        "xd[num_Test.columns] = shap_values.values"
      ],
      "metadata": {
        "id": "dt5x92wlbOjX"
      },
      "execution_count": null,
      "outputs": []
    },
    {
      "cell_type": "code",
      "source": [
        "top_cols = xd.apply(lambda x: x.nlargest(15).index.tolist(), axis=1)"
      ],
      "metadata": {
        "id": "GTtA7FFRlucM"
      },
      "execution_count": null,
      "outputs": []
    },
    {
      "cell_type": "code",
      "source": [
        "feature_cols = Sub.filter(like='feature').columns"
      ],
      "metadata": {
        "id": "iOtCkvHnkxAt"
      },
      "execution_count": null,
      "outputs": []
    },
    {
      "cell_type": "code",
      "source": [
        "xdc = pd.DataFrame(columns=feature_cols)\n",
        "for i, cols in enumerate(top_cols):\n",
        "  xdc.loc[i] = cols"
      ],
      "metadata": {
        "id": "cj-8Seg_qHlc"
      },
      "execution_count": null,
      "outputs": []
    },
    {
      "cell_type": "code",
      "source": [
        "Sub['target'] = sum(cbc_preds)/5"
      ],
      "metadata": {
        "id": "Lq_WEvsIrgeh"
      },
      "execution_count": null,
      "outputs": []
    },
    {
      "cell_type": "code",
      "source": [
        "Sub[feature_cols] = xdc[feature_cols]"
      ],
      "metadata": {
        "id": "HNIPLuKAs0ba"
      },
      "execution_count": null,
      "outputs": []
    },
    {
      "cell_type": "code",
      "source": [
        "Sub.to_csv('/content/Baseline_Only_Numerical_Columns_above_0.8threshold_CatBoost_Sub.csv',index=False)"
      ],
      "metadata": {
        "id": "lRTBLAvftCCE"
      },
      "execution_count": null,
      "outputs": []
    },
    {
      "cell_type": "code",
      "source": [],
      "metadata": {
        "id": "wGz3whuQaqns"
      },
      "execution_count": null,
      "outputs": []
    }
  ]
}